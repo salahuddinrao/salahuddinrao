{
 "cells": [
  {
   "cell_type": "code",
   "execution_count": 1,
   "metadata": {},
   "outputs": [],
   "source": [
    "# import libraries\n",
    "import numpy as np\n",
    "import pandas as pd\n",
    "import matplotlib.pyplot as plt\n",
    "import seaborn as sns\n",
    "from sklearn.model_selection import train_test_split\n",
    "from sklearn.linear_model import LinearRegression\n",
    "from sklearn.metrics import mean_squared_error, r2_score"
   ]
  },
  {
   "cell_type": "code",
   "execution_count": 2,
   "metadata": {},
   "outputs": [],
   "source": [
    "# Load the CSV file\n",
    "df = pd.read_csv('Entities.csv')"
   ]
  },
  {
   "cell_type": "code",
   "execution_count": 3,
   "metadata": {},
   "outputs": [
    {
     "data": {
      "text/html": [
       "<div>\n",
       "<style scoped>\n",
       "    .dataframe tbody tr th:only-of-type {\n",
       "        vertical-align: middle;\n",
       "    }\n",
       "\n",
       "    .dataframe tbody tr th {\n",
       "        vertical-align: top;\n",
       "    }\n",
       "\n",
       "    .dataframe thead th {\n",
       "        text-align: right;\n",
       "    }\n",
       "</style>\n",
       "<table border=\"1\" class=\"dataframe\">\n",
       "  <thead>\n",
       "    <tr style=\"text-align: right;\">\n",
       "      <th></th>\n",
       "      <th>location_id</th>\n",
       "      <th>property_type</th>\n",
       "      <th>location</th>\n",
       "      <th>city</th>\n",
       "      <th>province_name</th>\n",
       "      <th>latitude</th>\n",
       "      <th>longitude</th>\n",
       "      <th>baths</th>\n",
       "      <th>purpose</th>\n",
       "      <th>bedrooms</th>\n",
       "      <th>date_added</th>\n",
       "      <th>Total_Area</th>\n",
       "      <th>price</th>\n",
       "    </tr>\n",
       "  </thead>\n",
       "  <tbody>\n",
       "    <tr>\n",
       "      <th>0</th>\n",
       "      <td>3325</td>\n",
       "      <td>Flat</td>\n",
       "      <td>G-10</td>\n",
       "      <td>Islamabad</td>\n",
       "      <td>Islamabad Capital</td>\n",
       "      <td>33.679890</td>\n",
       "      <td>73.012640</td>\n",
       "      <td>2</td>\n",
       "      <td>For Sale</td>\n",
       "      <td>2</td>\n",
       "      <td>02/04/2019</td>\n",
       "      <td>1089.004</td>\n",
       "      <td>10000000</td>\n",
       "    </tr>\n",
       "    <tr>\n",
       "      <th>1</th>\n",
       "      <td>3236</td>\n",
       "      <td>Flat</td>\n",
       "      <td>E-11</td>\n",
       "      <td>Islamabad</td>\n",
       "      <td>Islamabad Capital</td>\n",
       "      <td>33.700993</td>\n",
       "      <td>72.971492</td>\n",
       "      <td>3</td>\n",
       "      <td>For Sale</td>\n",
       "      <td>3</td>\n",
       "      <td>05/04/2019</td>\n",
       "      <td>15246.056</td>\n",
       "      <td>6900000</td>\n",
       "    </tr>\n",
       "    <tr>\n",
       "      <th>2</th>\n",
       "      <td>764</td>\n",
       "      <td>House</td>\n",
       "      <td>G-15</td>\n",
       "      <td>Islamabad</td>\n",
       "      <td>Islamabad Capital</td>\n",
       "      <td>33.631486</td>\n",
       "      <td>72.926559</td>\n",
       "      <td>6</td>\n",
       "      <td>For Sale</td>\n",
       "      <td>5</td>\n",
       "      <td>7/17/2019</td>\n",
       "      <td>2178.008</td>\n",
       "      <td>16500000</td>\n",
       "    </tr>\n",
       "    <tr>\n",
       "      <th>3</th>\n",
       "      <td>340</td>\n",
       "      <td>House</td>\n",
       "      <td>Bani Gala</td>\n",
       "      <td>Islamabad</td>\n",
       "      <td>Islamabad Capital</td>\n",
       "      <td>33.707573</td>\n",
       "      <td>73.151199</td>\n",
       "      <td>4</td>\n",
       "      <td>For Sale</td>\n",
       "      <td>4</td>\n",
       "      <td>04/05/2019</td>\n",
       "      <td>10890.000</td>\n",
       "      <td>43500000</td>\n",
       "    </tr>\n",
       "    <tr>\n",
       "      <th>4</th>\n",
       "      <td>3226</td>\n",
       "      <td>House</td>\n",
       "      <td>DHA Defence</td>\n",
       "      <td>Islamabad</td>\n",
       "      <td>Islamabad Capital</td>\n",
       "      <td>33.492591</td>\n",
       "      <td>73.301339</td>\n",
       "      <td>3</td>\n",
       "      <td>For Sale</td>\n",
       "      <td>3</td>\n",
       "      <td>07/10/2019</td>\n",
       "      <td>2178.008</td>\n",
       "      <td>7000000</td>\n",
       "    </tr>\n",
       "  </tbody>\n",
       "</table>\n",
       "</div>"
      ],
      "text/plain": [
       "   location_id property_type     location       city      province_name  \\\n",
       "0         3325          Flat         G-10  Islamabad  Islamabad Capital   \n",
       "1         3236          Flat         E-11  Islamabad  Islamabad Capital   \n",
       "2          764         House         G-15  Islamabad  Islamabad Capital   \n",
       "3          340         House    Bani Gala  Islamabad  Islamabad Capital   \n",
       "4         3226         House  DHA Defence  Islamabad  Islamabad Capital   \n",
       "\n",
       "    latitude  longitude  baths   purpose  bedrooms  date_added  Total_Area  \\\n",
       "0  33.679890  73.012640      2  For Sale         2  02/04/2019    1089.004   \n",
       "1  33.700993  72.971492      3  For Sale         3  05/04/2019   15246.056   \n",
       "2  33.631486  72.926559      6  For Sale         5   7/17/2019    2178.008   \n",
       "3  33.707573  73.151199      4  For Sale         4  04/05/2019   10890.000   \n",
       "4  33.492591  73.301339      3  For Sale         3  07/10/2019    2178.008   \n",
       "\n",
       "      price  \n",
       "0  10000000  \n",
       "1   6900000  \n",
       "2  16500000  \n",
       "3  43500000  \n",
       "4   7000000  "
      ]
     },
     "execution_count": 3,
     "metadata": {},
     "output_type": "execute_result"
    }
   ],
   "source": [
    "# Display the first 5 rows of the dataset\n",
    "df.head(5)"
   ]
  },
  {
   "cell_type": "code",
   "execution_count": 4,
   "metadata": {},
   "outputs": [
    {
     "data": {
      "text/plain": [
       "(168446, 13)"
      ]
     },
     "execution_count": 4,
     "metadata": {},
     "output_type": "execute_result"
    }
   ],
   "source": [
    "df.shape"
   ]
  },
  {
   "cell_type": "code",
   "execution_count": 5,
   "metadata": {},
   "outputs": [
    {
     "data": {
      "text/plain": [
       "Index(['location_id', 'property_type', 'location', 'city', 'province_name',\n",
       "       'latitude', 'longitude', 'baths', 'purpose', 'bedrooms', 'date_added',\n",
       "       'Total_Area', 'price'],\n",
       "      dtype='object')"
      ]
     },
     "execution_count": 5,
     "metadata": {},
     "output_type": "execute_result"
    }
   ],
   "source": [
    "# columns in the df\n",
    "columns = df.columns\n",
    "columns"
   ]
  },
  {
   "cell_type": "code",
   "execution_count": 6,
   "metadata": {},
   "outputs": [],
   "source": [
    "# drop columns\n",
    "df.drop(['location_id', 'province_name', 'latitude','longitude', 'purpose', 'date_added' ], axis=1, inplace=True)"
   ]
  },
  {
   "cell_type": "code",
   "execution_count": 7,
   "metadata": {},
   "outputs": [
    {
     "data": {
      "text/html": [
       "<div>\n",
       "<style scoped>\n",
       "    .dataframe tbody tr th:only-of-type {\n",
       "        vertical-align: middle;\n",
       "    }\n",
       "\n",
       "    .dataframe tbody tr th {\n",
       "        vertical-align: top;\n",
       "    }\n",
       "\n",
       "    .dataframe thead th {\n",
       "        text-align: right;\n",
       "    }\n",
       "</style>\n",
       "<table border=\"1\" class=\"dataframe\">\n",
       "  <thead>\n",
       "    <tr style=\"text-align: right;\">\n",
       "      <th></th>\n",
       "      <th>property_type</th>\n",
       "      <th>location</th>\n",
       "      <th>city</th>\n",
       "      <th>baths</th>\n",
       "      <th>bedrooms</th>\n",
       "      <th>Total_Area</th>\n",
       "      <th>price</th>\n",
       "    </tr>\n",
       "  </thead>\n",
       "  <tbody>\n",
       "    <tr>\n",
       "      <th>0</th>\n",
       "      <td>Flat</td>\n",
       "      <td>G-10</td>\n",
       "      <td>Islamabad</td>\n",
       "      <td>2</td>\n",
       "      <td>2</td>\n",
       "      <td>1089.004</td>\n",
       "      <td>10000000</td>\n",
       "    </tr>\n",
       "    <tr>\n",
       "      <th>1</th>\n",
       "      <td>Flat</td>\n",
       "      <td>E-11</td>\n",
       "      <td>Islamabad</td>\n",
       "      <td>3</td>\n",
       "      <td>3</td>\n",
       "      <td>15246.056</td>\n",
       "      <td>6900000</td>\n",
       "    </tr>\n",
       "    <tr>\n",
       "      <th>2</th>\n",
       "      <td>House</td>\n",
       "      <td>G-15</td>\n",
       "      <td>Islamabad</td>\n",
       "      <td>6</td>\n",
       "      <td>5</td>\n",
       "      <td>2178.008</td>\n",
       "      <td>16500000</td>\n",
       "    </tr>\n",
       "    <tr>\n",
       "      <th>3</th>\n",
       "      <td>House</td>\n",
       "      <td>Bani Gala</td>\n",
       "      <td>Islamabad</td>\n",
       "      <td>4</td>\n",
       "      <td>4</td>\n",
       "      <td>10890.000</td>\n",
       "      <td>43500000</td>\n",
       "    </tr>\n",
       "    <tr>\n",
       "      <th>4</th>\n",
       "      <td>House</td>\n",
       "      <td>DHA Defence</td>\n",
       "      <td>Islamabad</td>\n",
       "      <td>3</td>\n",
       "      <td>3</td>\n",
       "      <td>2178.008</td>\n",
       "      <td>7000000</td>\n",
       "    </tr>\n",
       "  </tbody>\n",
       "</table>\n",
       "</div>"
      ],
      "text/plain": [
       "  property_type     location       city  baths  bedrooms  Total_Area     price\n",
       "0          Flat         G-10  Islamabad      2         2    1089.004  10000000\n",
       "1          Flat         E-11  Islamabad      3         3   15246.056   6900000\n",
       "2         House         G-15  Islamabad      6         5    2178.008  16500000\n",
       "3         House    Bani Gala  Islamabad      4         4   10890.000  43500000\n",
       "4         House  DHA Defence  Islamabad      3         3    2178.008   7000000"
      ]
     },
     "execution_count": 7,
     "metadata": {},
     "output_type": "execute_result"
    }
   ],
   "source": [
    "df.head()"
   ]
  },
  {
   "cell_type": "code",
   "execution_count": 8,
   "metadata": {},
   "outputs": [
    {
     "data": {
      "text/plain": [
       "property_type\n",
       "Farm House          657\n",
       "Flat              38238\n",
       "House            105468\n",
       "Lower Portion      9229\n",
       "Penthouse           395\n",
       "Room                685\n",
       "Upper Portion     13774\n",
       "Name: property_type, dtype: int64"
      ]
     },
     "execution_count": 8,
     "metadata": {},
     "output_type": "execute_result"
    }
   ],
   "source": [
    "#goupby property_type\n",
    "df.groupby('property_type')['property_type'].agg('count')"
   ]
  },
  {
   "cell_type": "code",
   "execution_count": 9,
   "metadata": {},
   "outputs": [
    {
     "data": {
      "text/plain": [
       "city\n",
       "Faisalabad     8133\n",
       "Islamabad     37426\n",
       "Karachi       60484\n",
       "Lahore        41427\n",
       "Rawalpindi    20976\n",
       "Name: city, dtype: int64"
      ]
     },
     "execution_count": 9,
     "metadata": {},
     "output_type": "execute_result"
    }
   ],
   "source": [
    "#groupby 'location,\n",
    "df.groupby('city')['city'].agg('count')"
   ]
  },
  {
   "cell_type": "code",
   "execution_count": 10,
   "metadata": {},
   "outputs": [
    {
     "name": "stdout",
     "output_type": "stream",
     "text": [
      "Index(['property_type', 'location', 'city', 'baths', 'bedrooms', 'Total_Area',\n",
      "       'price'],\n",
      "      dtype='object')\n"
     ]
    }
   ],
   "source": [
    "#columns in the dataset\n",
    "print(df.columns)"
   ]
  },
  {
   "cell_type": "code",
   "execution_count": 11,
   "metadata": {},
   "outputs": [
    {
     "data": {
      "text/plain": [
       "property_type    0\n",
       "location         0\n",
       "city             0\n",
       "baths            0\n",
       "bedrooms         0\n",
       "Total_Area       0\n",
       "price            0\n",
       "dtype: int64"
      ]
     },
     "execution_count": 11,
     "metadata": {},
     "output_type": "execute_result"
    }
   ],
   "source": [
    "# check the null values in the df\n",
    "df.isnull().sum()"
   ]
  },
  {
   "cell_type": "code",
   "execution_count": 12,
   "metadata": {},
   "outputs": [
    {
     "name": "stdout",
     "output_type": "stream",
     "text": [
      "Number of rows with baths >= 10: 877\n"
     ]
    }
   ],
   "source": [
    "# Check the number of rows with baths >= 10\n",
    "baths_gte_10 = df[df['baths'] >= 10]\n",
    "print(f\"Number of rows with baths >= 10: {len(baths_gte_10)}\")"
   ]
  },
  {
   "cell_type": "code",
   "execution_count": 13,
   "metadata": {},
   "outputs": [
    {
     "name": "stdout",
     "output_type": "stream",
     "text": [
      "Number of rows after dropping: 167569\n"
     ]
    }
   ],
   "source": [
    "# Drop the rows where baths >= 10\n",
    "df = df[df['baths'] < 10]\n",
    "\n",
    "# Verify that the rows have been dropped\n",
    "print(f\"Number of rows after dropping: {len(df)}\")"
   ]
  },
  {
   "cell_type": "code",
   "execution_count": 14,
   "metadata": {},
   "outputs": [
    {
     "name": "stdout",
     "output_type": "stream",
     "text": [
      "<class 'pandas.core.frame.DataFrame'>\n",
      "Index: 167569 entries, 0 to 168445\n",
      "Data columns (total 7 columns):\n",
      " #   Column         Non-Null Count   Dtype  \n",
      "---  ------         --------------   -----  \n",
      " 0   property_type  167569 non-null  object \n",
      " 1   location       167569 non-null  object \n",
      " 2   city           167569 non-null  object \n",
      " 3   baths          167569 non-null  int64  \n",
      " 4   bedrooms       167569 non-null  int64  \n",
      " 5   Total_Area     167569 non-null  float64\n",
      " 6   price          167569 non-null  int64  \n",
      "dtypes: float64(1), int64(3), object(3)\n",
      "memory usage: 10.2+ MB\n",
      "None\n"
     ]
    }
   ],
   "source": [
    "# Get a summary of the dataset\n",
    "print(df.info())"
   ]
  },
  {
   "cell_type": "code",
   "execution_count": 15,
   "metadata": {},
   "outputs": [
    {
     "name": "stdout",
     "output_type": "stream",
     "text": [
      "Number of instances where 'baths' is 0: 42382\n",
      "Number of instances where 'bedrooms' is 0: 22699\n"
     ]
    }
   ],
   "source": [
    "# Check for instances where 'baths' is 0\n",
    "baths_zero_count = (df['baths'] == 0).sum()\n",
    "\n",
    "# Check for instances where 'bedrooms' is 0\n",
    "bedrooms_zero_count = (df['bedrooms'] == 0).sum()\n",
    "# Display the counts\n",
    "print(f\"Number of instances where 'baths' is 0: {baths_zero_count}\")\n",
    "print(f\"Number of instances where 'bedrooms' is 0: {bedrooms_zero_count}\")"
   ]
  },
  {
   "cell_type": "code",
   "execution_count": 16,
   "metadata": {},
   "outputs": [
    {
     "name": "stdout",
     "output_type": "stream",
     "text": [
      "Updated DataFrame shape: (145306, 7)\n"
     ]
    }
   ],
   "source": [
    "# Remove rows where 'bedrooms' and 'baths' are both 0\n",
    "df = df[~((df['bedrooms'] == 0) & (df['baths'] == 0))]\n",
    "\n",
    "# Optional: Reset the index after removal\n",
    "df.reset_index(drop=True, inplace=True)\n",
    "\n",
    "# Display the updated DataFrame shape\n",
    "print(f\"Updated DataFrame shape: {df.shape}\")"
   ]
  },
  {
   "cell_type": "code",
   "execution_count": 17,
   "metadata": {},
   "outputs": [],
   "source": [
    "# Remove rows where 'bedrooms' is 0\n",
    "df = df[df['bedrooms'] != 0]\n",
    "\n",
    "# Optional: Reset the index after removal\n",
    "df.reset_index(drop=True, inplace=True)\n"
   ]
  },
  {
   "cell_type": "code",
   "execution_count": 18,
   "metadata": {},
   "outputs": [
    {
     "name": "stdout",
     "output_type": "stream",
     "text": [
      "Updated DataFrame shape: (144870, 7)\n"
     ]
    }
   ],
   "source": [
    "# Display the updated DataFrame shape\n",
    "print(f\"Updated DataFrame shape: {df.shape}\")"
   ]
  },
  {
   "cell_type": "code",
   "execution_count": 19,
   "metadata": {},
   "outputs": [
    {
     "name": "stdout",
     "output_type": "stream",
     "text": [
      "Updated DataFrame shape: (144860, 7)\n"
     ]
    }
   ],
   "source": [
    "# Remove rows where 'Total_Area' is 0\n",
    "df = df[df['Total_Area'] != 0]\n",
    "\n",
    "# Optional: Reset the index after removal\n",
    "df.reset_index(drop=True, inplace=True)\n",
    "\n",
    "# Display the updated DataFrame shape\n",
    "print(f\"Updated DataFrame shape: {df.shape}\")"
   ]
  },
  {
   "cell_type": "code",
   "execution_count": 20,
   "metadata": {},
   "outputs": [
    {
     "name": "stdout",
     "output_type": "stream",
     "text": [
      "       property_type        location     city  baths  bedrooms  Total_Area  \\\n",
      "45             House            Eden   Lahore      0         3    2450.259   \n",
      "50             House     EME Society   Lahore      0         5    5445.000   \n",
      "51             House     EME Society   Lahore      0         6    5445.000   \n",
      "52             House      Izmir Town   Lahore      0         6   87120.000   \n",
      "55             House  Cavalry Ground   Lahore      0         4    2722.510   \n",
      "...              ...             ...      ...    ...       ...         ...   \n",
      "144854          Flat      Gadap Town  Karachi      0         2   10345.538   \n",
      "144855         House      Gadap Town  Karachi      0         6   26136.096   \n",
      "144856         House      Gadap Town  Karachi      0         3    2178.008   \n",
      "144857         House      Gadap Town  Karachi      0         6   26136.096   \n",
      "144858         House      Gadap Town  Karachi      0         3   21235.578   \n",
      "\n",
      "           price  \n",
      "45       9500000  \n",
      "50      32500000  \n",
      "51      31500000  \n",
      "52      40000000  \n",
      "55      16500000  \n",
      "...          ...  \n",
      "144854   4800000  \n",
      "144855  26500000  \n",
      "144856  12500000  \n",
      "144857  27000000  \n",
      "144858  11000000  \n",
      "\n",
      "[20119 rows x 7 columns]\n",
      "Number of rows with 'baths' = 0: 20119\n"
     ]
    }
   ],
   "source": [
    "# Filter rows where 'baths' is 0\n",
    "zero_baths = df[df['baths'] == 0]\n",
    "\n",
    "# Display the filtered rows\n",
    "print(zero_baths)\n",
    "\n",
    "# Optional: Display the count of such rows\n",
    "print(f\"Number of rows with 'baths' = 0: {len(zero_baths)}\")"
   ]
  },
  {
   "cell_type": "code",
   "execution_count": 21,
   "metadata": {},
   "outputs": [],
   "source": [
    "# Remove rows where 'baths' is 0\n",
    "df = df[df['baths'] != 0]\n",
    "\n",
    "# Optional: Reset the index after removal\n",
    "df.reset_index(drop=True, inplace=True)"
   ]
  },
  {
   "cell_type": "code",
   "execution_count": 22,
   "metadata": {},
   "outputs": [
    {
     "data": {
      "text/plain": [
       "(124741, 7)"
      ]
     },
     "execution_count": 22,
     "metadata": {},
     "output_type": "execute_result"
    }
   ],
   "source": [
    "df.shape"
   ]
  },
  {
   "cell_type": "code",
   "execution_count": 23,
   "metadata": {},
   "outputs": [
    {
     "name": "stdout",
     "output_type": "stream",
     "text": [
      "Numerical Columns: Index(['baths', 'bedrooms', 'Total_Area', 'price'], dtype='object')\n"
     ]
    }
   ],
   "source": [
    "numerical_columns = df.select_dtypes(include=['float64', 'int64']).columns\n",
    "print(\"Numerical Columns:\", numerical_columns)"
   ]
  },
  {
   "cell_type": "code",
   "execution_count": 24,
   "metadata": {},
   "outputs": [
    {
     "name": "stdout",
     "output_type": "stream",
     "text": [
      "Categorical Columns: Index(['property_type', 'location', 'city'], dtype='object')\n"
     ]
    }
   ],
   "source": [
    "# categorical columns in the dataset\n",
    "categorical_columns = df.select_dtypes(include=['object']).columns\n",
    "print(\"Categorical Columns:\", categorical_columns)"
   ]
  },
  {
   "cell_type": "code",
   "execution_count": 25,
   "metadata": {},
   "outputs": [
    {
     "name": "stdout",
     "output_type": "stream",
     "text": [
      "        property_type             location        city  baths  bedrooms  \\\n",
      "62              House               Askari      Lahore      5         4   \n",
      "66              House               Askari      Lahore      5         4   \n",
      "166             House                Malir     Karachi      5         4   \n",
      "233     Upper Portion                 F-11   Islamabad      3         3   \n",
      "237             House            Askari 13  Rawalpindi      4         3   \n",
      "...               ...                  ...         ...    ...       ...   \n",
      "124736          House  Bahria Town Karachi     Karachi      4         3   \n",
      "124737          House  Bahria Town Karachi     Karachi      4         3   \n",
      "124738          House  Bahria Town Karachi     Karachi      3         3   \n",
      "124739          House  Bahria Town Karachi     Karachi      4         4   \n",
      "124740          House  Bahria Town Karachi     Karachi      3         3   \n",
      "\n",
      "        Total_Area     price  \n",
      "62        2722.510  21500000  \n",
      "66        2722.510  23000000  \n",
      "166       3811.514  58500000  \n",
      "233       5445.000     75000  \n",
      "237       1361.255     55000  \n",
      "...            ...       ...  \n",
      "124736    2178.008   8800000  \n",
      "124737    1361.255   5000000  \n",
      "124738    2178.008  14000000  \n",
      "124739    3811.514  14000000  \n",
      "124740   25591.594   9000000  \n",
      "\n",
      "[52511 rows x 7 columns]\n",
      "Number of duplicate rows: 52511\n"
     ]
    }
   ],
   "source": [
    "# Check for exact duplicate rows across all columns\n",
    "duplicates = df.duplicated()\n",
    "\n",
    "# Display the exact duplicate rows\n",
    "duplicate_rows = df[duplicates]\n",
    "\n",
    "# Show the duplicate rows\n",
    "print(duplicate_rows)\n",
    "\n",
    "# Count the number of duplicate rows\n",
    "num_duplicates = duplicates.sum()\n",
    "print(f\"Number of duplicate rows: {num_duplicates}\")"
   ]
  },
  {
   "cell_type": "code",
   "execution_count": 26,
   "metadata": {},
   "outputs": [
    {
     "name": "stdout",
     "output_type": "stream",
     "text": [
      "Empty DataFrame\n",
      "Columns: [property_type, location, city, baths, bedrooms, Total_Area, price]\n",
      "Index: []\n"
     ]
    }
   ],
   "source": [
    "# Define the function to check if a value can be converted to float\n",
    "def is_float(x):\n",
    "    try:\n",
    "        float(x)\n",
    "        return True\n",
    "    except ValueError:\n",
    "        return False\n",
    "\n",
    "# Apply the function and filter rows where 'Total_Area' is not a float\n",
    "non_float_rows = df[~df['Total_Area'].apply(is_float)]\n",
    "\n",
    "# Display the rows\n",
    "print(non_float_rows.head())"
   ]
  },
  {
   "cell_type": "code",
   "execution_count": 27,
   "metadata": {},
   "outputs": [
    {
     "data": {
      "image/png": "[encoded data removed]",
      "text/plain": [
       "<Figure size 640x480 with 1 Axes>"
      ]
     },
     "metadata": {},
     "output_type": "display_data"
    }
   ],
   "source": [
    "# Plot the distribution of a categorical column\n",
    "sns.countplot(data=df, x='property_type')\n",
    "plt.title(\"Property Type Distribution\")\n",
    "plt.show()"
   ]
  },
  {
   "cell_type": "code",
   "execution_count": 28,
   "metadata": {},
   "outputs": [],
   "source": [
    "df = df[df['Total_Area'] <= df['Total_Area'].quantile(0.99)]"
   ]
  },
  {
   "cell_type": "code",
   "execution_count": 29,
   "metadata": {},
   "outputs": [
    {
     "data": {
      "text/plain": [
       "(123663, 7)"
      ]
     },
     "execution_count": 29,
     "metadata": {},
     "output_type": "execute_result"
    }
   ],
   "source": [
    "df.shape"
   ]
  },
  {
   "cell_type": "code",
   "execution_count": 30,
   "metadata": {},
   "outputs": [
    {
     "data": {
      "image/png": "[encoded data removed]",
      "text/plain": [
       "<Figure size 640x480 with 1 Axes>"
      ]
     },
     "metadata": {},
     "output_type": "display_data"
    }
   ],
   "source": [
    "# Scatter plot between Total_Area and price\n",
    "plt.scatter(df['Total_Area'], df['price'], alpha=0.5)\n",
    "plt.xlabel(\"Total Area\")\n",
    "plt.ylabel(\"Price\")\n",
    "plt.title(\"Total Area vs Price\")\n",
    "plt.show()"
   ]
  },
  {
   "cell_type": "code",
   "execution_count": 31,
   "metadata": {},
   "outputs": [
    {
     "data": {
      "image/png": "[encoded data removed]",
      "text/plain": [
       "<Figure size 640x480 with 1 Axes>"
      ]
     },
     "metadata": {},
     "output_type": "display_data"
    }
   ],
   "source": [
    "# Box plot for property type vs price\n",
    "sns.boxplot(data=df, x='property_type', y='price')\n",
    "plt.title(\"Property Type vs Price\")\n",
    "plt.show()"
   ]
  },
  {
   "cell_type": "code",
   "execution_count": 32,
   "metadata": {},
   "outputs": [
    {
     "data": {
      "image/png": "[encoded data removed]",
      "text/plain": [
       "<Figure size 1200x600 with 1 Axes>"
      ]
     },
     "metadata": {},
     "output_type": "display_data"
    }
   ],
   "source": [
    "plt.figure(figsize=(12, 6))\n",
    "sns.boxplot(data=df, x='property_type', y='price')\n",
    "plt.title('Price Distribution by Property Type (After Handling Outliers)')\n",
    "plt.xticks(rotation=45)\n",
    "plt.show()"
   ]
  },
  {
   "cell_type": "code",
   "execution_count": 33,
   "metadata": {},
   "outputs": [
    {
     "name": "stdout",
     "output_type": "stream",
     "text": [
      "Empty DataFrame\n",
      "Columns: [property_type, location, city, baths, bedrooms, Total_Area, price]\n",
      "Index: []\n"
     ]
    }
   ],
   "source": [
    "# Identify rows where 'Total_Area' is not of type int or float\n",
    "non_numeric_total_area = df[~df['Total_Area'].apply(lambda x: isinstance(x, (int, float)))]\n",
    "\n",
    "# Display these rows\n",
    "print(non_numeric_total_area)"
   ]
  },
  {
   "cell_type": "code",
   "execution_count": 34,
   "metadata": {},
   "outputs": [
    {
     "name": "stdout",
     "output_type": "stream",
     "text": [
      "count    1.236630e+05\n",
      "mean     1.717478e+07\n",
      "std      2.915611e+07\n",
      "min      1.000000e+00\n",
      "25%      3.100000e+05\n",
      "50%      9.000000e+06\n",
      "75%      2.000000e+07\n",
      "max      1.430000e+09\n",
      "Name: price, dtype: float64\n"
     ]
    }
   ],
   "source": [
    "# Check the summary statistics\n",
    "print(df['price'].describe())"
   ]
  },
  {
   "cell_type": "code",
   "execution_count": 35,
   "metadata": {},
   "outputs": [
    {
     "name": "stdout",
     "output_type": "stream",
     "text": [
      "        property_type                location        city  baths  bedrooms  \\\n",
      "32              House             DHA Defence   Islamabad      5         5   \n",
      "33              House                     F-7   Islamabad      6         6   \n",
      "34      Lower Portion                    G-15   Islamabad      2         2   \n",
      "35              House           Pakistan Town   Islamabad      5         3   \n",
      "36      Upper Portion              Bhara kahu   Islamabad      2         2   \n",
      "...               ...                     ...         ...    ...       ...   \n",
      "124662  Lower Portion      PWD Housing Scheme   Islamabad      3         3   \n",
      "124663          House                     F-7   Islamabad      6         5   \n",
      "124698           Flat  Bahria Town Rawalpindi  Rawalpindi      1         1   \n",
      "124704           Flat  Bahria Town Rawalpindi  Rawalpindi      1         1   \n",
      "124705  Upper Portion           Chak 208 Road  Faisalabad      2         2   \n",
      "\n",
      "        Total_Area    price  \n",
      "32        5445.000   110000  \n",
      "33       10890.000   600000  \n",
      "34        2178.008    33000  \n",
      "35       65340.000    45000  \n",
      "36        1361.255    12000  \n",
      "...            ...      ...  \n",
      "124662    3267.012    45000  \n",
      "124663   70785.000   400000  \n",
      "124698    5989.522   717000  \n",
      "124704    6534.024  3300000  \n",
      "124705    3267.012    25000  \n",
      "\n",
      "[37102 rows x 7 columns]\n"
     ]
    }
   ],
   "source": [
    "# Display rows with low prices\n",
    "low_price_threshold = df['price'].quantile(0.3)  # Bottom 1% threshold\n",
    "low_price_rows = df[df['price'] <= low_price_threshold]\n",
    "print(low_price_rows)"
   ]
  },
  {
   "cell_type": "code",
   "execution_count": 36,
   "metadata": {},
   "outputs": [],
   "source": [
    "# Remove rows with 'price' below the threshold\n",
    "df = df[df['price'] > low_price_threshold]"
   ]
  },
  {
   "cell_type": "code",
   "execution_count": 37,
   "metadata": {},
   "outputs": [
    {
     "data": {
      "text/plain": [
       "(86561, 7)"
      ]
     },
     "execution_count": 37,
     "metadata": {},
     "output_type": "execute_result"
    }
   ],
   "source": [
    "df.shape"
   ]
  },
  {
   "cell_type": "code",
   "execution_count": 38,
   "metadata": {},
   "outputs": [
    {
     "name": "stdout",
     "output_type": "stream",
     "text": [
      "count     86561.000000\n",
      "mean       6158.188346\n",
      "std        6271.590930\n",
      "min          42.852770\n",
      "25%        1068.536606\n",
      "50%        6198.324340\n",
      "75%        8723.567590\n",
      "max      550962.163592\n",
      "Name: price_per_area, dtype: float64\n"
     ]
    }
   ],
   "source": [
    "# Create a new feature for price per unit area\n",
    "df['price_per_area'] = df['price'] / df['Total_Area']\n",
    "\n",
    "# Check summary statistics\n",
    "print(df['price_per_area'].describe())"
   ]
  },
  {
   "cell_type": "code",
   "execution_count": 39,
   "metadata": {},
   "outputs": [
    {
     "data": {
      "text/html": [
       "<div>\n",
       "<style scoped>\n",
       "    .dataframe tbody tr th:only-of-type {\n",
       "        vertical-align: middle;\n",
       "    }\n",
       "\n",
       "    .dataframe tbody tr th {\n",
       "        vertical-align: top;\n",
       "    }\n",
       "\n",
       "    .dataframe thead th {\n",
       "        text-align: right;\n",
       "    }\n",
       "</style>\n",
       "<table border=\"1\" class=\"dataframe\">\n",
       "  <thead>\n",
       "    <tr style=\"text-align: right;\">\n",
       "      <th></th>\n",
       "      <th>property_type</th>\n",
       "      <th>location</th>\n",
       "      <th>city</th>\n",
       "      <th>baths</th>\n",
       "      <th>bedrooms</th>\n",
       "      <th>Total_Area</th>\n",
       "      <th>price</th>\n",
       "      <th>price_per_area</th>\n",
       "    </tr>\n",
       "  </thead>\n",
       "  <tbody>\n",
       "    <tr>\n",
       "      <th>0</th>\n",
       "      <td>Flat</td>\n",
       "      <td>G-10</td>\n",
       "      <td>Islamabad</td>\n",
       "      <td>2</td>\n",
       "      <td>2</td>\n",
       "      <td>1089.004</td>\n",
       "      <td>10000000</td>\n",
       "      <td>9182.702727</td>\n",
       "    </tr>\n",
       "    <tr>\n",
       "      <th>1</th>\n",
       "      <td>Flat</td>\n",
       "      <td>E-11</td>\n",
       "      <td>Islamabad</td>\n",
       "      <td>3</td>\n",
       "      <td>3</td>\n",
       "      <td>15246.056</td>\n",
       "      <td>6900000</td>\n",
       "      <td>452.576063</td>\n",
       "    </tr>\n",
       "    <tr>\n",
       "      <th>2</th>\n",
       "      <td>House</td>\n",
       "      <td>G-15</td>\n",
       "      <td>Islamabad</td>\n",
       "      <td>6</td>\n",
       "      <td>5</td>\n",
       "      <td>2178.008</td>\n",
       "      <td>16500000</td>\n",
       "      <td>7575.729749</td>\n",
       "    </tr>\n",
       "    <tr>\n",
       "      <th>3</th>\n",
       "      <td>House</td>\n",
       "      <td>Bani Gala</td>\n",
       "      <td>Islamabad</td>\n",
       "      <td>4</td>\n",
       "      <td>4</td>\n",
       "      <td>10890.000</td>\n",
       "      <td>43500000</td>\n",
       "      <td>3994.490358</td>\n",
       "    </tr>\n",
       "    <tr>\n",
       "      <th>4</th>\n",
       "      <td>House</td>\n",
       "      <td>DHA Defence</td>\n",
       "      <td>Islamabad</td>\n",
       "      <td>3</td>\n",
       "      <td>3</td>\n",
       "      <td>2178.008</td>\n",
       "      <td>7000000</td>\n",
       "      <td>3213.945954</td>\n",
       "    </tr>\n",
       "  </tbody>\n",
       "</table>\n",
       "</div>"
      ],
      "text/plain": [
       "  property_type     location       city  baths  bedrooms  Total_Area  \\\n",
       "0          Flat         G-10  Islamabad      2         2    1089.004   \n",
       "1          Flat         E-11  Islamabad      3         3   15246.056   \n",
       "2         House         G-15  Islamabad      6         5    2178.008   \n",
       "3         House    Bani Gala  Islamabad      4         4   10890.000   \n",
       "4         House  DHA Defence  Islamabad      3         3    2178.008   \n",
       "\n",
       "      price  price_per_area  \n",
       "0  10000000     9182.702727  \n",
       "1   6900000      452.576063  \n",
       "2  16500000     7575.729749  \n",
       "3  43500000     3994.490358  \n",
       "4   7000000     3213.945954  "
      ]
     },
     "execution_count": 39,
     "metadata": {},
     "output_type": "execute_result"
    }
   ],
   "source": [
    "df.head()"
   ]
  },
  {
   "cell_type": "code",
   "execution_count": 40,
   "metadata": {},
   "outputs": [
    {
     "name": "stdout",
     "output_type": "stream",
     "text": [
      "       property_type             location       city  baths  bedrooms  \\\n",
      "2              House                 G-15  Islamabad      6         5   \n",
      "12              Flat          DHA Defence  Islamabad      5         3   \n",
      "18             House                 G-11  Islamabad      7         6   \n",
      "29             House          Ghauri Town  Islamabad      3         2   \n",
      "47             House              Gulberg     Lahore      6         5   \n",
      "...              ...                  ...        ...    ...       ...   \n",
      "124731         House  Bahria Town Karachi    Karachi      4         3   \n",
      "124732         House  Bahria Town Karachi    Karachi      4         3   \n",
      "124733         House  Bahria Town Karachi    Karachi      5         4   \n",
      "124736         House  Bahria Town Karachi    Karachi      4         3   \n",
      "124737         House  Bahria Town Karachi    Karachi      4         3   \n",
      "\n",
      "        Total_Area     price  price_per_area  \n",
      "2         2178.008  16500000     7575.729749  \n",
      "12        2722.510  13500000     4958.659472  \n",
      "18        3811.514  55000000    14429.961427  \n",
      "29        1361.255   4500000     3305.772982  \n",
      "47        5445.000  52000000     9550.045914  \n",
      "...            ...       ...             ...  \n",
      "124731    1633.506  14000000     8570.522545  \n",
      "124732   16607.311   9500000      572.037219  \n",
      "124733    3811.514  14000000     3673.081091  \n",
      "124736    2178.008   8800000     4040.389200  \n",
      "124737    1361.255   5000000     3673.081091  \n",
      "\n",
      "[26556 rows x 8 columns]\n",
      "Number of rows where baths > bedrooms: 26556\n"
     ]
    }
   ],
   "source": [
    "# Filter rows where number of baths is greater than number of bedrooms\n",
    "baths_greater_than_bedrooms = df[df['baths'] > df['bedrooms']]\n",
    "\n",
    "# Display the rows\n",
    "print(baths_greater_than_bedrooms)\n",
    "\n",
    "# Check the count of such rows\n",
    "print(f\"Number of rows where baths > bedrooms: {len(baths_greater_than_bedrooms)}\")"
   ]
  },
  {
   "cell_type": "code",
   "execution_count": 41,
   "metadata": {},
   "outputs": [
    {
     "name": "stdout",
     "output_type": "stream",
     "text": [
      "Number of rows where baths > bedrooms after equalizing: 0\n"
     ]
    }
   ],
   "source": [
    "# Update the 'baths' column to match the 'bedrooms' column where baths > bedrooms\n",
    "df.loc[df['baths'] > df['bedrooms'], 'baths'] = df.loc[df['baths'] > df['bedrooms'], 'bedrooms']\n",
    "\n",
    "# Verify the update\n",
    "baths_greater_than_bedrooms_after = df[df['baths'] > df['bedrooms']]\n",
    "print(f\"Number of rows where baths > bedrooms after equalizing: {len(baths_greater_than_bedrooms_after)}\")"
   ]
  },
  {
   "cell_type": "code",
   "execution_count": 42,
   "metadata": {},
   "outputs": [
    {
     "name": "stdout",
     "output_type": "stream",
     "text": [
      "Statistics for price_per_area:\n",
      "count     86561.000000\n",
      "mean       6158.188346\n",
      "std        6271.590930\n",
      "min          42.852770\n",
      "25%        1068.536606\n",
      "50%        6198.324340\n",
      "75%        8723.567590\n",
      "max      550962.163592\n",
      "Name: price_per_area, dtype: float64\n"
     ]
    },
    {
     "data": {
      "image/png": "[encoded data removed]",
      "text/plain": [
       "<Figure size 1000x600 with 1 Axes>"
      ]
     },
     "metadata": {},
     "output_type": "display_data"
    },
    {
     "name": "stdout",
     "output_type": "stream",
     "text": [
      "Lower bound: 0, Upper bound: 20206.114066914193\n",
      "Number of rows removed: 1640\n",
      "Cleaned data statistics:\n",
      "count    84921.000000\n",
      "mean      5703.967438\n",
      "std       4331.033507\n",
      "min         42.852770\n",
      "25%       1034.670730\n",
      "50%       6060.583800\n",
      "75%       8539.944904\n",
      "max      20202.020202\n",
      "Name: price_per_area, dtype: float64\n"
     ]
    }
   ],
   "source": [
    "# Compute price_per_area\n",
    "df['price_per_area'] = df['price'] / df['Total_Area']\n",
    "\n",
    "# Summary statistics\n",
    "print(\"Statistics for price_per_area:\")\n",
    "print(df['price_per_area'].describe())\n",
    "\n",
    "# Visualize the distribution\n",
    "import matplotlib.pyplot as plt\n",
    "import seaborn as sns\n",
    "\n",
    "plt.figure(figsize=(10, 6))\n",
    "sns.boxplot(x=df['price_per_area'])\n",
    "plt.title('Boxplot of price_per_area')\n",
    "plt.show()\n",
    "\n",
    "# Set thresholds (use IQR method or domain knowledge)\n",
    "Q1 = df['price_per_area'].quantile(0.25)\n",
    "Q3 = df['price_per_area'].quantile(0.75)\n",
    "IQR = Q3 - Q1\n",
    "lower_bound = max(Q1 - 1.5 * IQR, 0)  # Price per area should not be negative\n",
    "upper_bound = Q3 + 1.5 * IQR\n",
    "\n",
    "print(f\"Lower bound: {lower_bound}, Upper bound: {upper_bound}\")\n",
    "\n",
    "# Filter outliers\n",
    "df_cleaned = df[(df['price_per_area'] >= lower_bound) & (df['price_per_area'] <= upper_bound)]\n",
    "\n",
    "# Number of rows removed\n",
    "rows_removed = len(df) - len(df_cleaned)\n",
    "print(f\"Number of rows removed: {rows_removed}\")\n",
    "\n",
    "# Replace original DataFrame with cleaned version\n",
    "df = df_cleaned\n",
    "\n",
    "# Verify the cleaned data\n",
    "print(\"Cleaned data statistics:\")\n",
    "print(df['price_per_area'].describe())"
   ]
  },
  {
   "cell_type": "code",
   "execution_count": 43,
   "metadata": {},
   "outputs": [
    {
     "data": {
      "text/plain": [
       "(84921, 8)"
      ]
     },
     "execution_count": 43,
     "metadata": {},
     "output_type": "execute_result"
    }
   ],
   "source": [
    "df.shape"
   ]
  },
  {
   "cell_type": "code",
   "execution_count": 44,
   "metadata": {},
   "outputs": [
    {
     "data": {
      "image/png": "[encoded data removed]",
      "text/plain": [
       "<Figure size 1000x600 with 1 Axes>"
      ]
     },
     "metadata": {},
     "output_type": "display_data"
    }
   ],
   "source": [
    "# Plot the distribution of 'price_per_area'\n",
    "plt.figure(figsize=(10, 6))\n",
    "sns.boxplot(x=df['price_per_area'])\n",
    "plt.title('Boxplot of price_per_area')\n",
    "plt.show()\n"
   ]
  },
  {
   "cell_type": "code",
   "execution_count": 45,
   "metadata": {},
   "outputs": [
    {
     "data": {
      "image/png": "[encoded data removed]",
      "text/plain": [
       "<Figure size 800x600 with 2 Axes>"
      ]
     },
     "metadata": {},
     "output_type": "display_data"
    }
   ],
   "source": [
    "# Select relevant columns for correlation\n",
    "correlation_data = df[['price_per_area', 'price']]\n",
    "# Plot heatmap\n",
    "plt.figure(figsize=(8, 6))\n",
    "sns.heatmap(correlation_data.corr(), annot=True, cmap='coolwarm', fmt=\".2f\")\n",
    "plt.title(\"Correlation Heatmap\")\n",
    "plt.show()"
   ]
  },
  {
   "cell_type": "code",
   "execution_count": 46,
   "metadata": {},
   "outputs": [
    {
     "data": {
      "text/html": [
       "<div>\n",
       "<style scoped>\n",
       "    .dataframe tbody tr th:only-of-type {\n",
       "        vertical-align: middle;\n",
       "    }\n",
       "\n",
       "    .dataframe tbody tr th {\n",
       "        vertical-align: top;\n",
       "    }\n",
       "\n",
       "    .dataframe thead th {\n",
       "        text-align: right;\n",
       "    }\n",
       "</style>\n",
       "<table border=\"1\" class=\"dataframe\">\n",
       "  <thead>\n",
       "    <tr style=\"text-align: right;\">\n",
       "      <th></th>\n",
       "      <th>property_type</th>\n",
       "      <th>location</th>\n",
       "      <th>city</th>\n",
       "      <th>baths</th>\n",
       "      <th>bedrooms</th>\n",
       "      <th>Total_Area</th>\n",
       "      <th>price</th>\n",
       "      <th>price_per_area</th>\n",
       "    </tr>\n",
       "  </thead>\n",
       "  <tbody>\n",
       "    <tr>\n",
       "      <th>0</th>\n",
       "      <td>Flat</td>\n",
       "      <td>G-10</td>\n",
       "      <td>Islamabad</td>\n",
       "      <td>2</td>\n",
       "      <td>2</td>\n",
       "      <td>1089.004</td>\n",
       "      <td>10000000</td>\n",
       "      <td>9182.702727</td>\n",
       "    </tr>\n",
       "    <tr>\n",
       "      <th>1</th>\n",
       "      <td>Flat</td>\n",
       "      <td>E-11</td>\n",
       "      <td>Islamabad</td>\n",
       "      <td>3</td>\n",
       "      <td>3</td>\n",
       "      <td>15246.056</td>\n",
       "      <td>6900000</td>\n",
       "      <td>452.576063</td>\n",
       "    </tr>\n",
       "    <tr>\n",
       "      <th>2</th>\n",
       "      <td>House</td>\n",
       "      <td>G-15</td>\n",
       "      <td>Islamabad</td>\n",
       "      <td>5</td>\n",
       "      <td>5</td>\n",
       "      <td>2178.008</td>\n",
       "      <td>16500000</td>\n",
       "      <td>7575.729749</td>\n",
       "    </tr>\n",
       "    <tr>\n",
       "      <th>3</th>\n",
       "      <td>House</td>\n",
       "      <td>Bani Gala</td>\n",
       "      <td>Islamabad</td>\n",
       "      <td>4</td>\n",
       "      <td>4</td>\n",
       "      <td>10890.000</td>\n",
       "      <td>43500000</td>\n",
       "      <td>3994.490358</td>\n",
       "    </tr>\n",
       "    <tr>\n",
       "      <th>4</th>\n",
       "      <td>House</td>\n",
       "      <td>DHA Defence</td>\n",
       "      <td>Islamabad</td>\n",
       "      <td>3</td>\n",
       "      <td>3</td>\n",
       "      <td>2178.008</td>\n",
       "      <td>7000000</td>\n",
       "      <td>3213.945954</td>\n",
       "    </tr>\n",
       "  </tbody>\n",
       "</table>\n",
       "</div>"
      ],
      "text/plain": [
       "  property_type     location       city  baths  bedrooms  Total_Area  \\\n",
       "0          Flat         G-10  Islamabad      2         2    1089.004   \n",
       "1          Flat         E-11  Islamabad      3         3   15246.056   \n",
       "2         House         G-15  Islamabad      5         5    2178.008   \n",
       "3         House    Bani Gala  Islamabad      4         4   10890.000   \n",
       "4         House  DHA Defence  Islamabad      3         3    2178.008   \n",
       "\n",
       "      price  price_per_area  \n",
       "0  10000000     9182.702727  \n",
       "1   6900000      452.576063  \n",
       "2  16500000     7575.729749  \n",
       "3  43500000     3994.490358  \n",
       "4   7000000     3213.945954  "
      ]
     },
     "execution_count": 46,
     "metadata": {},
     "output_type": "execute_result"
    }
   ],
   "source": [
    "df.head()"
   ]
  },
  {
   "cell_type": "code",
   "execution_count": 47,
   "metadata": {},
   "outputs": [
    {
     "data": {
      "text/plain": [
       "(84921, 8)"
      ]
     },
     "execution_count": 47,
     "metadata": {},
     "output_type": "execute_result"
    }
   ],
   "source": [
    "df.shape"
   ]
  },
  {
   "cell_type": "code",
   "execution_count": 48,
   "metadata": {},
   "outputs": [
    {
     "data": {
      "text/plain": [
       "location\n",
       "DHA Defence               11662\n",
       "Bahria Town Karachi        6977\n",
       "Bahria Town                5101\n",
       "Gulistan-e-Jauhar          3303\n",
       "Bahria Town Rawalpindi     3018\n",
       "                          ...  \n",
       "Dhoke Dalal Road              1\n",
       "Dhok Naju                     1\n",
       "Partal Town                   1\n",
       "Kamal Abad                    1\n",
       "12th Avenue                   1\n",
       "Name: location, Length: 1346, dtype: int64"
      ]
     },
     "execution_count": 48,
     "metadata": {},
     "output_type": "execute_result"
    }
   ],
   "source": [
    "df.location = df.location.apply(lambda x: x.strip())\n",
    "location_stats = df.groupby('location')['location'].agg('count').sort_values(ascending=False)\n",
    "location_stats"
   ]
  },
  {
   "cell_type": "code",
   "execution_count": 49,
   "metadata": {},
   "outputs": [
    {
     "data": {
      "text/plain": [
       "885"
      ]
     },
     "execution_count": 49,
     "metadata": {},
     "output_type": "execute_result"
    }
   ],
   "source": [
    "# len of location which have less than 1 datapoint\n",
    "len(location_stats[location_stats <=10])"
   ]
  },
  {
   "cell_type": "code",
   "execution_count": 50,
   "metadata": {},
   "outputs": [
    {
     "data": {
      "text/plain": [
       "location\n",
       "Shahrah-e-Pakistan    10\n",
       "Pir Wadhai            10\n",
       "Jhang Syedan          10\n",
       "Committee Chowk       10\n",
       "Simly Dam Road        10\n",
       "                      ..\n",
       "Dhoke Dalal Road       1\n",
       "Dhok Naju              1\n",
       "Partal Town            1\n",
       "Kamal Abad             1\n",
       "12th Avenue            1\n",
       "Name: location, Length: 885, dtype: int64"
      ]
     },
     "execution_count": 50,
     "metadata": {},
     "output_type": "execute_result"
    }
   ],
   "source": [
    "location_less_than_10 = location_stats[location_stats<=10]\n",
    "location_less_than_10"
   ]
  },
  {
   "cell_type": "code",
   "execution_count": 51,
   "metadata": {},
   "outputs": [
    {
     "data": {
      "text/html": [
       "<div>\n",
       "<style scoped>\n",
       "    .dataframe tbody tr th:only-of-type {\n",
       "        vertical-align: middle;\n",
       "    }\n",
       "\n",
       "    .dataframe tbody tr th {\n",
       "        vertical-align: top;\n",
       "    }\n",
       "\n",
       "    .dataframe thead th {\n",
       "        text-align: right;\n",
       "    }\n",
       "</style>\n",
       "<table border=\"1\" class=\"dataframe\">\n",
       "  <thead>\n",
       "    <tr style=\"text-align: right;\">\n",
       "      <th></th>\n",
       "      <th>property_type</th>\n",
       "      <th>location</th>\n",
       "      <th>city</th>\n",
       "      <th>baths</th>\n",
       "      <th>bedrooms</th>\n",
       "      <th>Total_Area</th>\n",
       "      <th>price</th>\n",
       "      <th>price_per_area</th>\n",
       "    </tr>\n",
       "  </thead>\n",
       "  <tbody>\n",
       "    <tr>\n",
       "      <th>124731</th>\n",
       "      <td>House</td>\n",
       "      <td>Bahria Town Karachi</td>\n",
       "      <td>Karachi</td>\n",
       "      <td>3</td>\n",
       "      <td>3</td>\n",
       "      <td>1633.506</td>\n",
       "      <td>14000000</td>\n",
       "      <td>8570.522545</td>\n",
       "    </tr>\n",
       "    <tr>\n",
       "      <th>124732</th>\n",
       "      <td>House</td>\n",
       "      <td>Bahria Town Karachi</td>\n",
       "      <td>Karachi</td>\n",
       "      <td>3</td>\n",
       "      <td>3</td>\n",
       "      <td>16607.311</td>\n",
       "      <td>9500000</td>\n",
       "      <td>572.037219</td>\n",
       "    </tr>\n",
       "    <tr>\n",
       "      <th>124733</th>\n",
       "      <td>House</td>\n",
       "      <td>Bahria Town Karachi</td>\n",
       "      <td>Karachi</td>\n",
       "      <td>4</td>\n",
       "      <td>4</td>\n",
       "      <td>3811.514</td>\n",
       "      <td>14000000</td>\n",
       "      <td>3673.081091</td>\n",
       "    </tr>\n",
       "    <tr>\n",
       "      <th>124734</th>\n",
       "      <td>Flat</td>\n",
       "      <td>Bahria Town Karachi</td>\n",
       "      <td>Karachi</td>\n",
       "      <td>2</td>\n",
       "      <td>2</td>\n",
       "      <td>11434.542</td>\n",
       "      <td>5200000</td>\n",
       "      <td>454.762421</td>\n",
       "    </tr>\n",
       "    <tr>\n",
       "      <th>124735</th>\n",
       "      <td>Flat</td>\n",
       "      <td>Bahria Town Karachi</td>\n",
       "      <td>Karachi</td>\n",
       "      <td>3</td>\n",
       "      <td>3</td>\n",
       "      <td>2178.008</td>\n",
       "      <td>7500000</td>\n",
       "      <td>3443.513522</td>\n",
       "    </tr>\n",
       "    <tr>\n",
       "      <th>124736</th>\n",
       "      <td>House</td>\n",
       "      <td>Bahria Town Karachi</td>\n",
       "      <td>Karachi</td>\n",
       "      <td>3</td>\n",
       "      <td>3</td>\n",
       "      <td>2178.008</td>\n",
       "      <td>8800000</td>\n",
       "      <td>4040.389200</td>\n",
       "    </tr>\n",
       "    <tr>\n",
       "      <th>124737</th>\n",
       "      <td>House</td>\n",
       "      <td>Bahria Town Karachi</td>\n",
       "      <td>Karachi</td>\n",
       "      <td>3</td>\n",
       "      <td>3</td>\n",
       "      <td>1361.255</td>\n",
       "      <td>5000000</td>\n",
       "      <td>3673.081091</td>\n",
       "    </tr>\n",
       "    <tr>\n",
       "      <th>124738</th>\n",
       "      <td>House</td>\n",
       "      <td>Bahria Town Karachi</td>\n",
       "      <td>Karachi</td>\n",
       "      <td>3</td>\n",
       "      <td>3</td>\n",
       "      <td>2178.008</td>\n",
       "      <td>14000000</td>\n",
       "      <td>6427.891909</td>\n",
       "    </tr>\n",
       "    <tr>\n",
       "      <th>124739</th>\n",
       "      <td>House</td>\n",
       "      <td>Bahria Town Karachi</td>\n",
       "      <td>Karachi</td>\n",
       "      <td>4</td>\n",
       "      <td>4</td>\n",
       "      <td>3811.514</td>\n",
       "      <td>14000000</td>\n",
       "      <td>3673.081091</td>\n",
       "    </tr>\n",
       "    <tr>\n",
       "      <th>124740</th>\n",
       "      <td>House</td>\n",
       "      <td>Bahria Town Karachi</td>\n",
       "      <td>Karachi</td>\n",
       "      <td>3</td>\n",
       "      <td>3</td>\n",
       "      <td>25591.594</td>\n",
       "      <td>9000000</td>\n",
       "      <td>351.677977</td>\n",
       "    </tr>\n",
       "  </tbody>\n",
       "</table>\n",
       "</div>"
      ],
      "text/plain": [
       "       property_type             location     city  baths  bedrooms  \\\n",
       "124731         House  Bahria Town Karachi  Karachi      3         3   \n",
       "124732         House  Bahria Town Karachi  Karachi      3         3   \n",
       "124733         House  Bahria Town Karachi  Karachi      4         4   \n",
       "124734          Flat  Bahria Town Karachi  Karachi      2         2   \n",
       "124735          Flat  Bahria Town Karachi  Karachi      3         3   \n",
       "124736         House  Bahria Town Karachi  Karachi      3         3   \n",
       "124737         House  Bahria Town Karachi  Karachi      3         3   \n",
       "124738         House  Bahria Town Karachi  Karachi      3         3   \n",
       "124739         House  Bahria Town Karachi  Karachi      4         4   \n",
       "124740         House  Bahria Town Karachi  Karachi      3         3   \n",
       "\n",
       "        Total_Area     price  price_per_area  \n",
       "124731    1633.506  14000000     8570.522545  \n",
       "124732   16607.311   9500000      572.037219  \n",
       "124733    3811.514  14000000     3673.081091  \n",
       "124734   11434.542   5200000      454.762421  \n",
       "124735    2178.008   7500000     3443.513522  \n",
       "124736    2178.008   8800000     4040.389200  \n",
       "124737    1361.255   5000000     3673.081091  \n",
       "124738    2178.008  14000000     6427.891909  \n",
       "124739    3811.514  14000000     3673.081091  \n",
       "124740   25591.594   9000000      351.677977  "
      ]
     },
     "execution_count": 51,
     "metadata": {},
     "output_type": "execute_result"
    }
   ],
   "source": [
    "df.location = df.location.apply(lambda x : 'others' if x in location_less_than_10 else x)\n",
    "\n",
    "df.tail(10)"
   ]
  },
  {
   "cell_type": "code",
   "execution_count": 52,
   "metadata": {},
   "outputs": [
    {
     "data": {
      "text/html": [
       "<div>\n",
       "<style scoped>\n",
       "    .dataframe tbody tr th:only-of-type {\n",
       "        vertical-align: middle;\n",
       "    }\n",
       "\n",
       "    .dataframe tbody tr th {\n",
       "        vertical-align: top;\n",
       "    }\n",
       "\n",
       "    .dataframe thead th {\n",
       "        text-align: right;\n",
       "    }\n",
       "</style>\n",
       "<table border=\"1\" class=\"dataframe\">\n",
       "  <thead>\n",
       "    <tr style=\"text-align: right;\">\n",
       "      <th></th>\n",
       "      <th>property_type</th>\n",
       "      <th>location</th>\n",
       "      <th>city</th>\n",
       "      <th>baths</th>\n",
       "      <th>bedrooms</th>\n",
       "      <th>Total_Area</th>\n",
       "      <th>price</th>\n",
       "      <th>price_per_area</th>\n",
       "    </tr>\n",
       "  </thead>\n",
       "  <tbody>\n",
       "    <tr>\n",
       "      <th>23</th>\n",
       "      <td>House</td>\n",
       "      <td>others</td>\n",
       "      <td>Islamabad</td>\n",
       "      <td>4</td>\n",
       "      <td>4</td>\n",
       "      <td>1089.004</td>\n",
       "      <td>6800000</td>\n",
       "      <td>6244.237854</td>\n",
       "    </tr>\n",
       "    <tr>\n",
       "      <th>102</th>\n",
       "      <td>House</td>\n",
       "      <td>Chakri Road</td>\n",
       "      <td>Rawalpindi</td>\n",
       "      <td>5</td>\n",
       "      <td>6</td>\n",
       "      <td>1361.255</td>\n",
       "      <td>5000000</td>\n",
       "      <td>3673.081091</td>\n",
       "    </tr>\n",
       "    <tr>\n",
       "      <th>261</th>\n",
       "      <td>House</td>\n",
       "      <td>Allama Iqbal Town</td>\n",
       "      <td>Lahore</td>\n",
       "      <td>2</td>\n",
       "      <td>3</td>\n",
       "      <td>544.502</td>\n",
       "      <td>6000000</td>\n",
       "      <td>11019.243272</td>\n",
       "    </tr>\n",
       "    <tr>\n",
       "      <th>262</th>\n",
       "      <td>House</td>\n",
       "      <td>Allama Iqbal Town</td>\n",
       "      <td>Lahore</td>\n",
       "      <td>2</td>\n",
       "      <td>3</td>\n",
       "      <td>544.502</td>\n",
       "      <td>5500000</td>\n",
       "      <td>10100.972999</td>\n",
       "    </tr>\n",
       "    <tr>\n",
       "      <th>332</th>\n",
       "      <td>House</td>\n",
       "      <td>G-13</td>\n",
       "      <td>Islamabad</td>\n",
       "      <td>5</td>\n",
       "      <td>5</td>\n",
       "      <td>1089.004</td>\n",
       "      <td>14000000</td>\n",
       "      <td>12855.783817</td>\n",
       "    </tr>\n",
       "  </tbody>\n",
       "</table>\n",
       "</div>"
      ],
      "text/plain": [
       "    property_type           location        city  baths  bedrooms  Total_Area  \\\n",
       "23          House             others   Islamabad      4         4    1089.004   \n",
       "102         House        Chakri Road  Rawalpindi      5         6    1361.255   \n",
       "261         House  Allama Iqbal Town      Lahore      2         3     544.502   \n",
       "262         House  Allama Iqbal Town      Lahore      2         3     544.502   \n",
       "332         House               G-13   Islamabad      5         5    1089.004   \n",
       "\n",
       "        price  price_per_area  \n",
       "23    6800000     6244.237854  \n",
       "102   5000000     3673.081091  \n",
       "261   6000000    11019.243272  \n",
       "262   5500000    10100.972999  \n",
       "332  14000000    12855.783817  "
      ]
     },
     "execution_count": 52,
     "metadata": {},
     "output_type": "execute_result"
    }
   ],
   "source": [
    "df[df.Total_Area/df.bedrooms <300].head()"
   ]
  },
  {
   "cell_type": "code",
   "execution_count": 53,
   "metadata": {},
   "outputs": [
    {
     "data": {
      "text/plain": [
       "(78673, 8)"
      ]
     },
     "execution_count": 53,
     "metadata": {},
     "output_type": "execute_result"
    }
   ],
   "source": [
    "# remove all these [df.Total_Area/df.bedrooms <300] from my df\n",
    "df = df[~(df.Total_Area/df.bedrooms <300)]\n",
    "df.shape"
   ]
  },
  {
   "cell_type": "code",
   "execution_count": 54,
   "metadata": {},
   "outputs": [
    {
     "data": {
      "text/plain": [
       "count    78673.000000\n",
       "mean      5473.880865\n",
       "std       4345.285131\n",
       "min         42.852770\n",
       "25%        940.667109\n",
       "50%       5713.681697\n",
       "75%       8402.203857\n",
       "max      20202.020202\n",
       "Name: price_per_area, dtype: float64"
      ]
     },
     "execution_count": 54,
     "metadata": {},
     "output_type": "execute_result"
    }
   ],
   "source": [
    "df.price_per_area.describe()"
   ]
  },
  {
   "cell_type": "code",
   "execution_count": 55,
   "metadata": {},
   "outputs": [
    {
     "data": {
      "text/plain": [
       "(78673, 8)"
      ]
     },
     "execution_count": 55,
     "metadata": {},
     "output_type": "execute_result"
    }
   ],
   "source": [
    "df.shape"
   ]
  },
  {
   "cell_type": "code",
   "execution_count": 56,
   "metadata": {},
   "outputs": [
    {
     "name": "stdout",
     "output_type": "stream",
     "text": [
      "Number of rows removed: 0\n",
      "count    77880.000000\n",
      "mean      5433.814173\n",
      "std       4296.344476\n",
      "min         42.852770\n",
      "25%        944.016168\n",
      "50%       5693.275690\n",
      "75%       8264.462810\n",
      "max      20202.020202\n",
      "Name: price_per_area, dtype: float64\n"
     ]
    },
    {
     "name": "stderr",
     "output_type": "stream",
     "text": [
      "C:\\Users\\govth\\AppData\\Local\\Temp\\ipykernel_8764\\1892347041.py:10: DeprecationWarning: DataFrameGroupBy.apply operated on the grouping columns. This behavior is deprecated, and in a future version of pandas the grouping columns will be excluded from the operation. Either pass `include_groups=False` to exclude the groupings or explicitly select the grouping columns after groupby to silence this warning.\n",
      "  df = df.groupby('location', group_keys=False).apply(remove_outliers)\n"
     ]
    }
   ],
   "source": [
    "# Define a function to remove outliers based on mean and standard deviation\n",
    "def remove_outliers(group):\n",
    "    mean = group['price_per_area'].mean()\n",
    "    std = group['price_per_area'].std()\n",
    "    lower_bound = mean - 3 * std  # Define lower bound\n",
    "    upper_bound = mean + 3 * std  # Define upper bound\n",
    "    return group[(group['price_per_area'] >= lower_bound) & (group['price_per_area'] <= upper_bound)]\n",
    "\n",
    "# Apply the function to each group by 'location'\n",
    "df = df.groupby('location', group_keys=False).apply(remove_outliers)\n",
    "\n",
    "# Display the number of rows removed\n",
    "rows_removed = len(df) - len(df)\n",
    "print(f\"Number of rows removed: {rows_removed}\")\n",
    "\n",
    "# Check the statistics of the cleaned data\n",
    "print(df['price_per_area'].describe())"
   ]
  },
  {
   "cell_type": "code",
   "execution_count": 57,
   "metadata": {},
   "outputs": [
    {
     "data": {
      "text/plain": [
       "(77880, 8)"
      ]
     },
     "execution_count": 57,
     "metadata": {},
     "output_type": "execute_result"
    }
   ],
   "source": [
    "df.shape"
   ]
  },
  {
   "cell_type": "code",
   "execution_count": 58,
   "metadata": {},
   "outputs": [
    {
     "data": {
      "image/png": "[encoded data removed]",
      "text/plain": [
       "<Figure size 640x480 with 1 Axes>"
      ]
     },
     "metadata": {},
     "output_type": "display_data"
    }
   ],
   "source": [
    "import matplotlib.pyplot as plt\n",
    "\n",
    "plt.hist(df['price_per_area'], bins=100, edgecolor='k')\n",
    "plt.title('Distribution of Price Per Area')\n",
    "plt.xlabel('Price Per Area')\n",
    "plt.ylabel('Frequency')\n",
    "plt.show()"
   ]
  },
  {
   "cell_type": "code",
   "execution_count": 59,
   "metadata": {},
   "outputs": [
    {
     "name": "stdout",
     "output_type": "stream",
     "text": [
      "Number of rows with price_per_area < 1000: 20443\n",
      "Statistics for rows with low price_per_area:\n",
      "count    20443.000000\n",
      "mean       618.842215\n",
      "std        179.309428\n",
      "min         42.852770\n",
      "25%        487.547586\n",
      "50%        602.614866\n",
      "75%        746.094597\n",
      "max        999.294120\n",
      "Name: price_per_area, dtype: float64\n",
      "Grouped by location (top 10 locations with low price_per_area):\n",
      "                      count        mean      median\n",
      "location                                           \n",
      "Gulistan-e-Jauhar      2140  601.296447  603.043164\n",
      "Bahria Town Karachi    2114  581.085981  559.707595\n",
      "DHA Defence            1335  695.244002  742.431284\n",
      "Gulshan-e-Iqbal Town   1316  640.014266  631.310812\n",
      "Scheme 33              1120  620.604862  554.427334\n",
      "Gadap Town             1055  561.978967  545.222974\n",
      "North Nazimabad         821  628.521001  612.180182\n",
      "North Karachi           781  611.146634  524.725870\n",
      "others                  670  593.940163  578.579315\n",
      "Federal B Area          549  612.295838  612.180182\n"
     ]
    },
    {
     "data": {
      "image/png": "[encoded data removed]",
      "text/plain": [
       "<Figure size 800x500 with 1 Axes>"
      ]
     },
     "metadata": {},
     "output_type": "display_data"
    }
   ],
   "source": [
    "# Set the threshold for low values\n",
    "low_value_threshold = 1000\n",
    "\n",
    "# Filter rows with price_per_area below the threshold\n",
    "low_values = df[df['price_per_area'] < low_value_threshold]\n",
    "\n",
    "# Display the number of such rows and their statistics\n",
    "print(f\"Number of rows with price_per_area < {low_value_threshold}: {len(low_values)}\")\n",
    "print(\"Statistics for rows with low price_per_area:\")\n",
    "print(low_values['price_per_area'].describe())\n",
    "\n",
    "# Investigate further by grouping by 'location' and checking the mean/median for low values\n",
    "location_analysis = low_values.groupby('location')['price_per_area'].agg(['count', 'mean', 'median']).sort_values('count', ascending=False)\n",
    "print(\"Grouped by location (top 10 locations with low price_per_area):\")\n",
    "print(location_analysis.head(10))\n",
    "\n",
    "# Histogram of low values\n",
    "plt.figure(figsize=(8, 5))\n",
    "plt.hist(low_values['price_per_area'], bins=50, edgecolor='k')\n",
    "plt.title(\"Distribution of Low Price Per Area (< 1000)\")\n",
    "plt.xlabel(\"Price Per Area\")\n",
    "plt.ylabel(\"Frequency\")\n",
    "plt.show()\n"
   ]
  },
  {
   "cell_type": "code",
   "execution_count": 60,
   "metadata": {},
   "outputs": [
    {
     "data": {
      "image/png": "[encoded data removed]",
      "text/plain": [
       "<Figure size 1500x1000 with 1 Axes>"
      ]
     },
     "metadata": {},
     "output_type": "display_data"
    }
   ],
   "source": [
    " #Function to plot scatter chart for price_per_area\n",
    "def plot_scatter_chart(df, location):\n",
    "    # Filter data for the given location and BHK types\n",
    "    bhk2 = df[(df['location'] == location) & (df['bedrooms'] == 2)]\n",
    "    bhk3 = df[(df['location'] == location) & (df['bedrooms'] == 3)]\n",
    "    \n",
    "    # Ensure sufficient data for meaningful plots\n",
    "    if bhk2.empty or bhk3.empty:\n",
    "        print(f\"Not enough data for 2 BHK or 3 BHK in {location}\")\n",
    "        return\n",
    "    \n",
    "    # Set plot size\n",
    "    plt.rcParams['figure.figsize'] = (15, 10)\n",
    "    \n",
    "    # Scatter plots for 2 BHK and 3 BHK\n",
    "    plt.scatter(bhk2['Total_Area'], bhk2['price_per_area'], \n",
    "                color='blue', label='2 BHK', s=50)\n",
    "    plt.scatter(bhk3['Total_Area'], bhk3['price_per_area'], \n",
    "                marker='+', color='green', label='3 BHK', s=50)\n",
    "    \n",
    "    # Add labels, title, and legend\n",
    "    plt.xlabel(\"Total Area (Square Feet)\")\n",
    "    plt.ylabel(\"Price Per Area (e.g., $/sqft or equivalent)\")\n",
    "    plt.title(f\"Price Per Area vs Total Area in {location}\")\n",
    "    plt.legend()\n",
    "    plt.show()\n",
    "\n",
    "# Example usage:\n",
    "plot_scatter_chart(df, 'Gulberg')"
   ]
  },
  {
   "cell_type": "code",
   "execution_count": 61,
   "metadata": {},
   "outputs": [
    {
     "data": {
      "text/plain": [
       "Text(0, 0.5, 'Count')"
      ]
     },
     "execution_count": 61,
     "metadata": {},
     "output_type": "execute_result"
    },
    {
     "data": {
      "image/png": "[encoded data removed]",
      "text/plain": [
       "<Figure size 2000x1000 with 1 Axes>"
      ]
     },
     "metadata": {},
     "output_type": "display_data"
    }
   ],
   "source": [
    "plt.rcParams[\"figure.figsize\"] = (20,10)\n",
    "plt.hist(df.price_per_area,rwidth=0.8,) \n",
    "plt.xlabel(\"Price Per Square Feet\")\n",
    "plt.ylabel(\"Count\")"
   ]
  },
  {
   "cell_type": "code",
   "execution_count": 62,
   "metadata": {},
   "outputs": [
    {
     "data": {
      "text/plain": [
       "Text(0, 0.5, 'Count')"
      ]
     },
     "execution_count": 62,
     "metadata": {},
     "output_type": "execute_result"
    },
    {
     "data": {
      "image/png": "[encoded data removed]",
      "text/plain": [
       "<Figure size 2000x1000 with 1 Axes>"
      ]
     },
     "metadata": {},
     "output_type": "display_data"
    }
   ],
   "source": [
    "plt.hist(df.baths,rwidth=0.8)\n",
    "plt.xlabel(\"Number of bathrooms\")\n",
    "plt.ylabel(\"Count\")"
   ]
  },
  {
   "cell_type": "code",
   "execution_count": 63,
   "metadata": {},
   "outputs": [
    {
     "data": {
      "text/html": [
       "<div>\n",
       "<style scoped>\n",
       "    .dataframe tbody tr th:only-of-type {\n",
       "        vertical-align: middle;\n",
       "    }\n",
       "\n",
       "    .dataframe tbody tr th {\n",
       "        vertical-align: top;\n",
       "    }\n",
       "\n",
       "    .dataframe thead th {\n",
       "        text-align: right;\n",
       "    }\n",
       "</style>\n",
       "<table border=\"1\" class=\"dataframe\">\n",
       "  <thead>\n",
       "    <tr style=\"text-align: right;\">\n",
       "      <th></th>\n",
       "      <th>property_type</th>\n",
       "      <th>location</th>\n",
       "      <th>city</th>\n",
       "      <th>baths</th>\n",
       "      <th>bedrooms</th>\n",
       "      <th>Total_Area</th>\n",
       "      <th>price</th>\n",
       "      <th>price_per_area</th>\n",
       "    </tr>\n",
       "  </thead>\n",
       "  <tbody>\n",
       "    <tr>\n",
       "      <th>1448</th>\n",
       "      <td>House</td>\n",
       "      <td>AWT Army Welfare Trust</td>\n",
       "      <td>Lahore</td>\n",
       "      <td>4</td>\n",
       "      <td>4</td>\n",
       "      <td>2722.51</td>\n",
       "      <td>11000000</td>\n",
       "      <td>4040.389200</td>\n",
       "    </tr>\n",
       "    <tr>\n",
       "      <th>42569</th>\n",
       "      <td>House</td>\n",
       "      <td>AWT Army Welfare Trust</td>\n",
       "      <td>Lahore</td>\n",
       "      <td>3</td>\n",
       "      <td>3</td>\n",
       "      <td>5445.00</td>\n",
       "      <td>19000000</td>\n",
       "      <td>3489.439853</td>\n",
       "    </tr>\n",
       "    <tr>\n",
       "      <th>44180</th>\n",
       "      <td>House</td>\n",
       "      <td>AWT Army Welfare Trust</td>\n",
       "      <td>Lahore</td>\n",
       "      <td>4</td>\n",
       "      <td>4</td>\n",
       "      <td>2722.51</td>\n",
       "      <td>15000000</td>\n",
       "      <td>5509.621636</td>\n",
       "    </tr>\n",
       "    <tr>\n",
       "      <th>44639</th>\n",
       "      <td>House</td>\n",
       "      <td>AWT Army Welfare Trust</td>\n",
       "      <td>Lahore</td>\n",
       "      <td>5</td>\n",
       "      <td>5</td>\n",
       "      <td>2722.51</td>\n",
       "      <td>14800000</td>\n",
       "      <td>5436.160014</td>\n",
       "    </tr>\n",
       "    <tr>\n",
       "      <th>63010</th>\n",
       "      <td>House</td>\n",
       "      <td>AWT Army Welfare Trust</td>\n",
       "      <td>Lahore</td>\n",
       "      <td>3</td>\n",
       "      <td>3</td>\n",
       "      <td>2722.51</td>\n",
       "      <td>15000000</td>\n",
       "      <td>5509.621636</td>\n",
       "    </tr>\n",
       "  </tbody>\n",
       "</table>\n",
       "</div>"
      ],
      "text/plain": [
       "      property_type                location    city  baths  bedrooms  \\\n",
       "1448          House  AWT Army Welfare Trust  Lahore      4         4   \n",
       "42569         House  AWT Army Welfare Trust  Lahore      3         3   \n",
       "44180         House  AWT Army Welfare Trust  Lahore      4         4   \n",
       "44639         House  AWT Army Welfare Trust  Lahore      5         5   \n",
       "63010         House  AWT Army Welfare Trust  Lahore      3         3   \n",
       "\n",
       "       Total_Area     price  price_per_area  \n",
       "1448      2722.51  11000000     4040.389200  \n",
       "42569     5445.00  19000000     3489.439853  \n",
       "44180     2722.51  15000000     5509.621636  \n",
       "44639     2722.51  14800000     5436.160014  \n",
       "63010     2722.51  15000000     5509.621636  "
      ]
     },
     "execution_count": 63,
     "metadata": {},
     "output_type": "execute_result"
    }
   ],
   "source": [
    "df.head()"
   ]
  },
  {
   "cell_type": "code",
   "execution_count": 64,
   "metadata": {},
   "outputs": [
    {
     "data": {
      "text/html": [
       "<div>\n",
       "<style scoped>\n",
       "    .dataframe tbody tr th:only-of-type {\n",
       "        vertical-align: middle;\n",
       "    }\n",
       "\n",
       "    .dataframe tbody tr th {\n",
       "        vertical-align: top;\n",
       "    }\n",
       "\n",
       "    .dataframe thead th {\n",
       "        text-align: right;\n",
       "    }\n",
       "</style>\n",
       "<table border=\"1\" class=\"dataframe\">\n",
       "  <thead>\n",
       "    <tr style=\"text-align: right;\">\n",
       "      <th></th>\n",
       "      <th>property_type</th>\n",
       "      <th>city</th>\n",
       "      <th>baths</th>\n",
       "      <th>bedrooms</th>\n",
       "      <th>Total_Area</th>\n",
       "      <th>price</th>\n",
       "    </tr>\n",
       "  </thead>\n",
       "  <tbody>\n",
       "    <tr>\n",
       "      <th>1448</th>\n",
       "      <td>House</td>\n",
       "      <td>Lahore</td>\n",
       "      <td>4</td>\n",
       "      <td>4</td>\n",
       "      <td>2722.51</td>\n",
       "      <td>11000000</td>\n",
       "    </tr>\n",
       "    <tr>\n",
       "      <th>42569</th>\n",
       "      <td>House</td>\n",
       "      <td>Lahore</td>\n",
       "      <td>3</td>\n",
       "      <td>3</td>\n",
       "      <td>5445.00</td>\n",
       "      <td>19000000</td>\n",
       "    </tr>\n",
       "    <tr>\n",
       "      <th>44180</th>\n",
       "      <td>House</td>\n",
       "      <td>Lahore</td>\n",
       "      <td>4</td>\n",
       "      <td>4</td>\n",
       "      <td>2722.51</td>\n",
       "      <td>15000000</td>\n",
       "    </tr>\n",
       "  </tbody>\n",
       "</table>\n",
       "</div>"
      ],
      "text/plain": [
       "      property_type    city  baths  bedrooms  Total_Area     price\n",
       "1448          House  Lahore      4         4     2722.51  11000000\n",
       "42569         House  Lahore      3         3     5445.00  19000000\n",
       "44180         House  Lahore      4         4     2722.51  15000000"
      ]
     },
     "execution_count": 64,
     "metadata": {},
     "output_type": "execute_result"
    }
   ],
   "source": [
    "df = df.drop(['location','price_per_area'],axis='columns')\n",
    "df.head(3)"
   ]
  },
  {
   "cell_type": "code",
   "execution_count": 75,
   "metadata": {},
   "outputs": [],
   "source": [
    "from sklearn.model_selection import train_test_split, KFold, cross_val_score\n",
    "from sklearn.linear_model import LinearRegression\n",
    "from sklearn.preprocessing import OneHotEncoder, MinMaxScaler\n",
    "from sklearn.metrics import mean_absolute_error, mean_squared_error, r2_score\n",
    "import numpy as np\n",
    "\n",
    "# Split data into features (X) and target (y)\n",
    "X = df.drop(columns=['price'])  # Replace 'price' with your target column\n",
    "y = df['price']\n",
    "\n",
    "# Split into training and testing sets\n",
    "X_train, X_test, y_train, y_test = train_test_split(X, y, test_size=0.2, random_state=42)\n",
    "\n",
    "# Identify categorical and numeric columns\n",
    "categorical_columns = ['property_type', 'city']\n",
    "numeric_columns = ['Total_Area']"
   ]
  },
  {
   "cell_type": "code",
   "execution_count": 76,
   "metadata": {},
   "outputs": [],
   "source": [
    "# Initialize encoders and scalers\n",
    "ohe = OneHotEncoder()\n",
    "scaler = MinMaxScaler()\n",
    "\n",
    "# One-Hot Encode categorical columns\n",
    "ohe.fit(X_train[categorical_columns])  # Fit on training categorical columns\n",
    "X_train_encoded = ohe.transform(X_train[categorical_columns])  # Transform training data\n",
    "X_test_encoded = ohe.transform(X_test[categorical_columns])    # Transform test data"
   ]
  },
  {
   "cell_type": "code",
   "execution_count": 77,
   "metadata": {},
   "outputs": [],
   "source": [
    "# Normalize numeric columns\n",
    "scaler.fit(X_train[numeric_columns])  # Fit scaler on training numeric columns\n",
    "X_train_scaled = scaler.transform(X_train[numeric_columns])\n",
    "X_test_scaled = scaler.transform(X_test[numeric_columns])\n",
    "\n",
    "# Combine encoded categorical and scaled numeric columns\n",
    "import numpy as np\n",
    "X_train_preprocessed = np.hstack((X_train_encoded.toarray(), X_train_scaled))\n",
    "X_test_preprocessed = np.hstack((X_test_encoded.toarray(), X_test_scaled))"
   ]
  },
  {
   "cell_type": "code",
   "execution_count": 78,
   "metadata": {},
   "outputs": [
    {
     "name": "stdout",
     "output_type": "stream",
     "text": [
      "Mean Squared Error: 598578440807758.6\n",
      "R-squared Score: 0.2144695943069187\n"
     ]
    }
   ],
   "source": [
    "# Initialize and train Linear Regression model\n",
    "lr_model = LinearRegression()\n",
    "lr_model.fit(X_train_preprocessed, y_train)\n",
    "\n",
    "# Predict on test data\n",
    "y_pred = lr_model.predict(X_test_preprocessed)\n",
    "\n",
    "# Evaluate the model\n",
    "mse = mean_squared_error(y_test, y_pred)\n",
    "r2 = r2_score(y_test, y_pred)\n",
    "\n",
    "print(f\"Mean Squared Error: {mse}\")\n",
    "print(f\"R-squared Score: {r2}\")"
   ]
  },
  {
   "cell_type": "code",
   "execution_count": 79,
   "metadata": {},
   "outputs": [
    {
     "ename": "ValueError",
     "evalue": "\nAll the 5 fits failed.\nIt is very likely that your model is misconfigured.\nYou can try to debug the error by setting error_score='raise'.\n\nBelow are more details about the failures:\n--------------------------------------------------------------------------------\n5 fits failed with the following error:\nTraceback (most recent call last):\n  File \"c:\\Users\\govth\\miniconda3\\envs\\ml_env\\Lib\\site-packages\\sklearn\\model_selection\\_validation.py\", line 888, in _fit_and_score\n    estimator.fit(X_train, y_train, **fit_params)\n    ~~~~~~~~~~~~~^^^^^^^^^^^^^^^^^^^^^^^^^^^^^^^^\n  File \"c:\\Users\\govth\\miniconda3\\envs\\ml_env\\Lib\\site-packages\\sklearn\\base.py\", line 1473, in wrapper\n    return fit_method(estimator, *args, **kwargs)\n  File \"c:\\Users\\govth\\miniconda3\\envs\\ml_env\\Lib\\site-packages\\sklearn\\linear_model\\_base.py\", line 609, in fit\n    X, y = self._validate_data(\n           ~~~~~~~~~~~~~~~~~~~^\n        X,\n        ^^\n    ...<4 lines>...\n        force_writeable=True,\n        ^^^^^^^^^^^^^^^^^^^^^\n    )\n    ^\n  File \"c:\\Users\\govth\\miniconda3\\envs\\ml_env\\Lib\\site-packages\\sklearn\\base.py\", line 650, in _validate_data\n    X, y = check_X_y(X, y, **check_params)\n           ~~~~~~~~~^^^^^^^^^^^^^^^^^^^^^^\n  File \"c:\\Users\\govth\\miniconda3\\envs\\ml_env\\Lib\\site-packages\\sklearn\\utils\\validation.py\", line 1301, in check_X_y\n    X = check_array(\n        X,\n    ...<12 lines>...\n        input_name=\"X\",\n    )\n  File \"c:\\Users\\govth\\miniconda3\\envs\\ml_env\\Lib\\site-packages\\sklearn\\utils\\validation.py\", line 1012, in check_array\n    array = _asarray_with_order(array, order=order, dtype=dtype, xp=xp)\n  File \"c:\\Users\\govth\\miniconda3\\envs\\ml_env\\Lib\\site-packages\\sklearn\\utils\\_array_api.py\", line 745, in _asarray_with_order\n    array = numpy.asarray(array, order=order, dtype=dtype)\n  File \"c:\\Users\\govth\\miniconda3\\envs\\ml_env\\Lib\\site-packages\\pandas\\core\\generic.py\", line 2153, in __array__\n    arr = np.asarray(values, dtype=dtype)\nValueError: could not convert string to float: 'House'\n",
     "output_type": "error",
     "traceback": [
      "\u001b[1;31m---------------------------------------------------------------------------\u001b[0m",
      "\u001b[1;31mValueError\u001b[0m                                Traceback (most recent call last)",
      "Cell \u001b[1;32mIn[79], line 22\u001b[0m\n\u001b[0;32m     20\u001b[0m results \u001b[38;5;241m=\u001b[39m {}\n\u001b[0;32m     21\u001b[0m \u001b[38;5;28;01mfor\u001b[39;00m model_name, model \u001b[38;5;129;01min\u001b[39;00m models\u001b[38;5;241m.\u001b[39mitems():\n\u001b[1;32m---> 22\u001b[0m     scores \u001b[38;5;241m=\u001b[39m \u001b[43mcross_val_score\u001b[49m\u001b[43m(\u001b[49m\u001b[43mmodel\u001b[49m\u001b[43m,\u001b[49m\u001b[43m \u001b[49m\u001b[43mX_train\u001b[49m\u001b[43m,\u001b[49m\u001b[43m \u001b[49m\u001b[43my_train\u001b[49m\u001b[43m,\u001b[49m\u001b[43m \u001b[49m\u001b[43mcv\u001b[49m\u001b[38;5;241;43m=\u001b[39;49m\u001b[43mkf\u001b[49m\u001b[43m,\u001b[49m\u001b[43m \u001b[49m\u001b[43mscoring\u001b[49m\u001b[38;5;241;43m=\u001b[39;49m\u001b[43mscorer\u001b[49m\u001b[43m)\u001b[49m\n\u001b[0;32m     23\u001b[0m     results[model_name] \u001b[38;5;241m=\u001b[39m {\n\u001b[0;32m     24\u001b[0m         \u001b[38;5;124m'\u001b[39m\u001b[38;5;124mMean MSE\u001b[39m\u001b[38;5;124m'\u001b[39m: \u001b[38;5;241m-\u001b[39mnp\u001b[38;5;241m.\u001b[39mmean(scores),\n\u001b[0;32m     25\u001b[0m         \u001b[38;5;124m'\u001b[39m\u001b[38;5;124mStandard Deviation\u001b[39m\u001b[38;5;124m'\u001b[39m: np\u001b[38;5;241m.\u001b[39mstd(scores)\n\u001b[0;32m     26\u001b[0m     }\n\u001b[0;32m     28\u001b[0m \u001b[38;5;66;03m# Display Results\u001b[39;00m\n",
      "File \u001b[1;32mc:\\Users\\govth\\miniconda3\\envs\\ml_env\\Lib\\site-packages\\sklearn\\utils\\_param_validation.py:213\u001b[0m, in \u001b[0;36mvalidate_params.<locals>.decorator.<locals>.wrapper\u001b[1;34m(*args, **kwargs)\u001b[0m\n\u001b[0;32m    207\u001b[0m \u001b[38;5;28;01mtry\u001b[39;00m:\n\u001b[0;32m    208\u001b[0m     \u001b[38;5;28;01mwith\u001b[39;00m config_context(\n\u001b[0;32m    209\u001b[0m         skip_parameter_validation\u001b[38;5;241m=\u001b[39m(\n\u001b[0;32m    210\u001b[0m             prefer_skip_nested_validation \u001b[38;5;129;01mor\u001b[39;00m global_skip_validation\n\u001b[0;32m    211\u001b[0m         )\n\u001b[0;32m    212\u001b[0m     ):\n\u001b[1;32m--> 213\u001b[0m         \u001b[38;5;28;01mreturn\u001b[39;00m \u001b[43mfunc\u001b[49m\u001b[43m(\u001b[49m\u001b[38;5;241;43m*\u001b[39;49m\u001b[43margs\u001b[49m\u001b[43m,\u001b[49m\u001b[43m \u001b[49m\u001b[38;5;241;43m*\u001b[39;49m\u001b[38;5;241;43m*\u001b[39;49m\u001b[43mkwargs\u001b[49m\u001b[43m)\u001b[49m\n\u001b[0;32m    214\u001b[0m \u001b[38;5;28;01mexcept\u001b[39;00m InvalidParameterError \u001b[38;5;28;01mas\u001b[39;00m e:\n\u001b[0;32m    215\u001b[0m     \u001b[38;5;66;03m# When the function is just a wrapper around an estimator, we allow\u001b[39;00m\n\u001b[0;32m    216\u001b[0m     \u001b[38;5;66;03m# the function to delegate validation to the estimator, but we replace\u001b[39;00m\n\u001b[0;32m    217\u001b[0m     \u001b[38;5;66;03m# the name of the estimator by the name of the function in the error\u001b[39;00m\n\u001b[0;32m    218\u001b[0m     \u001b[38;5;66;03m# message to avoid confusion.\u001b[39;00m\n\u001b[0;32m    219\u001b[0m     msg \u001b[38;5;241m=\u001b[39m re\u001b[38;5;241m.\u001b[39msub(\n\u001b[0;32m    220\u001b[0m         \u001b[38;5;124mr\u001b[39m\u001b[38;5;124m\"\u001b[39m\u001b[38;5;124mparameter of \u001b[39m\u001b[38;5;124m\\\u001b[39m\u001b[38;5;124mw+ must be\u001b[39m\u001b[38;5;124m\"\u001b[39m,\n\u001b[0;32m    221\u001b[0m         \u001b[38;5;124mf\u001b[39m\u001b[38;5;124m\"\u001b[39m\u001b[38;5;124mparameter of \u001b[39m\u001b[38;5;132;01m{\u001b[39;00mfunc\u001b[38;5;241m.\u001b[39m\u001b[38;5;18m__qualname__\u001b[39m\u001b[38;5;132;01m}\u001b[39;00m\u001b[38;5;124m must be\u001b[39m\u001b[38;5;124m\"\u001b[39m,\n\u001b[0;32m    222\u001b[0m         \u001b[38;5;28mstr\u001b[39m(e),\n\u001b[0;32m    223\u001b[0m     )\n",
      "File \u001b[1;32mc:\\Users\\govth\\miniconda3\\envs\\ml_env\\Lib\\site-packages\\sklearn\\model_selection\\_validation.py:712\u001b[0m, in \u001b[0;36mcross_val_score\u001b[1;34m(estimator, X, y, groups, scoring, cv, n_jobs, verbose, fit_params, params, pre_dispatch, error_score)\u001b[0m\n\u001b[0;32m    709\u001b[0m \u001b[38;5;66;03m# To ensure multimetric format is not supported\u001b[39;00m\n\u001b[0;32m    710\u001b[0m scorer \u001b[38;5;241m=\u001b[39m check_scoring(estimator, scoring\u001b[38;5;241m=\u001b[39mscoring)\n\u001b[1;32m--> 712\u001b[0m cv_results \u001b[38;5;241m=\u001b[39m \u001b[43mcross_validate\u001b[49m\u001b[43m(\u001b[49m\n\u001b[0;32m    713\u001b[0m \u001b[43m    \u001b[49m\u001b[43mestimator\u001b[49m\u001b[38;5;241;43m=\u001b[39;49m\u001b[43mestimator\u001b[49m\u001b[43m,\u001b[49m\n\u001b[0;32m    714\u001b[0m \u001b[43m    \u001b[49m\u001b[43mX\u001b[49m\u001b[38;5;241;43m=\u001b[39;49m\u001b[43mX\u001b[49m\u001b[43m,\u001b[49m\n\u001b[0;32m    715\u001b[0m \u001b[43m    \u001b[49m\u001b[43my\u001b[49m\u001b[38;5;241;43m=\u001b[39;49m\u001b[43my\u001b[49m\u001b[43m,\u001b[49m\n\u001b[0;32m    716\u001b[0m \u001b[43m    \u001b[49m\u001b[43mgroups\u001b[49m\u001b[38;5;241;43m=\u001b[39;49m\u001b[43mgroups\u001b[49m\u001b[43m,\u001b[49m\n\u001b[0;32m    717\u001b[0m \u001b[43m    \u001b[49m\u001b[43mscoring\u001b[49m\u001b[38;5;241;43m=\u001b[39;49m\u001b[43m{\u001b[49m\u001b[38;5;124;43m\"\u001b[39;49m\u001b[38;5;124;43mscore\u001b[39;49m\u001b[38;5;124;43m\"\u001b[39;49m\u001b[43m:\u001b[49m\u001b[43m \u001b[49m\u001b[43mscorer\u001b[49m\u001b[43m}\u001b[49m\u001b[43m,\u001b[49m\n\u001b[0;32m    718\u001b[0m \u001b[43m    \u001b[49m\u001b[43mcv\u001b[49m\u001b[38;5;241;43m=\u001b[39;49m\u001b[43mcv\u001b[49m\u001b[43m,\u001b[49m\n\u001b[0;32m    719\u001b[0m \u001b[43m    \u001b[49m\u001b[43mn_jobs\u001b[49m\u001b[38;5;241;43m=\u001b[39;49m\u001b[43mn_jobs\u001b[49m\u001b[43m,\u001b[49m\n\u001b[0;32m    720\u001b[0m \u001b[43m    \u001b[49m\u001b[43mverbose\u001b[49m\u001b[38;5;241;43m=\u001b[39;49m\u001b[43mverbose\u001b[49m\u001b[43m,\u001b[49m\n\u001b[0;32m    721\u001b[0m \u001b[43m    \u001b[49m\u001b[43mfit_params\u001b[49m\u001b[38;5;241;43m=\u001b[39;49m\u001b[43mfit_params\u001b[49m\u001b[43m,\u001b[49m\n\u001b[0;32m    722\u001b[0m \u001b[43m    \u001b[49m\u001b[43mparams\u001b[49m\u001b[38;5;241;43m=\u001b[39;49m\u001b[43mparams\u001b[49m\u001b[43m,\u001b[49m\n\u001b[0;32m    723\u001b[0m \u001b[43m    \u001b[49m\u001b[43mpre_dispatch\u001b[49m\u001b[38;5;241;43m=\u001b[39;49m\u001b[43mpre_dispatch\u001b[49m\u001b[43m,\u001b[49m\n\u001b[0;32m    724\u001b[0m \u001b[43m    \u001b[49m\u001b[43merror_score\u001b[49m\u001b[38;5;241;43m=\u001b[39;49m\u001b[43merror_score\u001b[49m\u001b[43m,\u001b[49m\n\u001b[0;32m    725\u001b[0m \u001b[43m\u001b[49m\u001b[43m)\u001b[49m\n\u001b[0;32m    726\u001b[0m \u001b[38;5;28;01mreturn\u001b[39;00m cv_results[\u001b[38;5;124m\"\u001b[39m\u001b[38;5;124mtest_score\u001b[39m\u001b[38;5;124m\"\u001b[39m]\n",
      "File \u001b[1;32mc:\\Users\\govth\\miniconda3\\envs\\ml_env\\Lib\\site-packages\\sklearn\\utils\\_param_validation.py:213\u001b[0m, in \u001b[0;36mvalidate_params.<locals>.decorator.<locals>.wrapper\u001b[1;34m(*args, **kwargs)\u001b[0m\n\u001b[0;32m    207\u001b[0m \u001b[38;5;28;01mtry\u001b[39;00m:\n\u001b[0;32m    208\u001b[0m     \u001b[38;5;28;01mwith\u001b[39;00m config_context(\n\u001b[0;32m    209\u001b[0m         skip_parameter_validation\u001b[38;5;241m=\u001b[39m(\n\u001b[0;32m    210\u001b[0m             prefer_skip_nested_validation \u001b[38;5;129;01mor\u001b[39;00m global_skip_validation\n\u001b[0;32m    211\u001b[0m         )\n\u001b[0;32m    212\u001b[0m     ):\n\u001b[1;32m--> 213\u001b[0m         \u001b[38;5;28;01mreturn\u001b[39;00m \u001b[43mfunc\u001b[49m\u001b[43m(\u001b[49m\u001b[38;5;241;43m*\u001b[39;49m\u001b[43margs\u001b[49m\u001b[43m,\u001b[49m\u001b[43m \u001b[49m\u001b[38;5;241;43m*\u001b[39;49m\u001b[38;5;241;43m*\u001b[39;49m\u001b[43mkwargs\u001b[49m\u001b[43m)\u001b[49m\n\u001b[0;32m    214\u001b[0m \u001b[38;5;28;01mexcept\u001b[39;00m InvalidParameterError \u001b[38;5;28;01mas\u001b[39;00m e:\n\u001b[0;32m    215\u001b[0m     \u001b[38;5;66;03m# When the function is just a wrapper around an estimator, we allow\u001b[39;00m\n\u001b[0;32m    216\u001b[0m     \u001b[38;5;66;03m# the function to delegate validation to the estimator, but we replace\u001b[39;00m\n\u001b[0;32m    217\u001b[0m     \u001b[38;5;66;03m# the name of the estimator by the name of the function in the error\u001b[39;00m\n\u001b[0;32m    218\u001b[0m     \u001b[38;5;66;03m# message to avoid confusion.\u001b[39;00m\n\u001b[0;32m    219\u001b[0m     msg \u001b[38;5;241m=\u001b[39m re\u001b[38;5;241m.\u001b[39msub(\n\u001b[0;32m    220\u001b[0m         \u001b[38;5;124mr\u001b[39m\u001b[38;5;124m\"\u001b[39m\u001b[38;5;124mparameter of \u001b[39m\u001b[38;5;124m\\\u001b[39m\u001b[38;5;124mw+ must be\u001b[39m\u001b[38;5;124m\"\u001b[39m,\n\u001b[0;32m    221\u001b[0m         \u001b[38;5;124mf\u001b[39m\u001b[38;5;124m\"\u001b[39m\u001b[38;5;124mparameter of \u001b[39m\u001b[38;5;132;01m{\u001b[39;00mfunc\u001b[38;5;241m.\u001b[39m\u001b[38;5;18m__qualname__\u001b[39m\u001b[38;5;132;01m}\u001b[39;00m\u001b[38;5;124m must be\u001b[39m\u001b[38;5;124m\"\u001b[39m,\n\u001b[0;32m    222\u001b[0m         \u001b[38;5;28mstr\u001b[39m(e),\n\u001b[0;32m    223\u001b[0m     )\n",
      "File \u001b[1;32mc:\\Users\\govth\\miniconda3\\envs\\ml_env\\Lib\\site-packages\\sklearn\\model_selection\\_validation.py:443\u001b[0m, in \u001b[0;36mcross_validate\u001b[1;34m(estimator, X, y, groups, scoring, cv, n_jobs, verbose, fit_params, params, pre_dispatch, return_train_score, return_estimator, return_indices, error_score)\u001b[0m\n\u001b[0;32m    422\u001b[0m parallel \u001b[38;5;241m=\u001b[39m Parallel(n_jobs\u001b[38;5;241m=\u001b[39mn_jobs, verbose\u001b[38;5;241m=\u001b[39mverbose, pre_dispatch\u001b[38;5;241m=\u001b[39mpre_dispatch)\n\u001b[0;32m    423\u001b[0m results \u001b[38;5;241m=\u001b[39m parallel(\n\u001b[0;32m    424\u001b[0m     delayed(_fit_and_score)(\n\u001b[0;32m    425\u001b[0m         clone(estimator),\n\u001b[1;32m   (...)\u001b[0m\n\u001b[0;32m    440\u001b[0m     \u001b[38;5;28;01mfor\u001b[39;00m train, test \u001b[38;5;129;01min\u001b[39;00m indices\n\u001b[0;32m    441\u001b[0m )\n\u001b[1;32m--> 443\u001b[0m \u001b[43m_warn_or_raise_about_fit_failures\u001b[49m\u001b[43m(\u001b[49m\u001b[43mresults\u001b[49m\u001b[43m,\u001b[49m\u001b[43m \u001b[49m\u001b[43merror_score\u001b[49m\u001b[43m)\u001b[49m\n\u001b[0;32m    445\u001b[0m \u001b[38;5;66;03m# For callable scoring, the return type is only know after calling. If the\u001b[39;00m\n\u001b[0;32m    446\u001b[0m \u001b[38;5;66;03m# return type is a dictionary, the error scores can now be inserted with\u001b[39;00m\n\u001b[0;32m    447\u001b[0m \u001b[38;5;66;03m# the correct key.\u001b[39;00m\n\u001b[0;32m    448\u001b[0m \u001b[38;5;28;01mif\u001b[39;00m \u001b[38;5;28mcallable\u001b[39m(scoring):\n",
      "File \u001b[1;32mc:\\Users\\govth\\miniconda3\\envs\\ml_env\\Lib\\site-packages\\sklearn\\model_selection\\_validation.py:529\u001b[0m, in \u001b[0;36m_warn_or_raise_about_fit_failures\u001b[1;34m(results, error_score)\u001b[0m\n\u001b[0;32m    522\u001b[0m \u001b[38;5;28;01mif\u001b[39;00m num_failed_fits \u001b[38;5;241m==\u001b[39m num_fits:\n\u001b[0;32m    523\u001b[0m     all_fits_failed_message \u001b[38;5;241m=\u001b[39m (\n\u001b[0;32m    524\u001b[0m         \u001b[38;5;124mf\u001b[39m\u001b[38;5;124m\"\u001b[39m\u001b[38;5;130;01m\\n\u001b[39;00m\u001b[38;5;124mAll the \u001b[39m\u001b[38;5;132;01m{\u001b[39;00mnum_fits\u001b[38;5;132;01m}\u001b[39;00m\u001b[38;5;124m fits failed.\u001b[39m\u001b[38;5;130;01m\\n\u001b[39;00m\u001b[38;5;124m\"\u001b[39m\n\u001b[0;32m    525\u001b[0m         \u001b[38;5;124m\"\u001b[39m\u001b[38;5;124mIt is very likely that your model is misconfigured.\u001b[39m\u001b[38;5;130;01m\\n\u001b[39;00m\u001b[38;5;124m\"\u001b[39m\n\u001b[0;32m    526\u001b[0m         \u001b[38;5;124m\"\u001b[39m\u001b[38;5;124mYou can try to debug the error by setting error_score=\u001b[39m\u001b[38;5;124m'\u001b[39m\u001b[38;5;124mraise\u001b[39m\u001b[38;5;124m'\u001b[39m\u001b[38;5;124m.\u001b[39m\u001b[38;5;130;01m\\n\u001b[39;00m\u001b[38;5;130;01m\\n\u001b[39;00m\u001b[38;5;124m\"\u001b[39m\n\u001b[0;32m    527\u001b[0m         \u001b[38;5;124mf\u001b[39m\u001b[38;5;124m\"\u001b[39m\u001b[38;5;124mBelow are more details about the failures:\u001b[39m\u001b[38;5;130;01m\\n\u001b[39;00m\u001b[38;5;132;01m{\u001b[39;00mfit_errors_summary\u001b[38;5;132;01m}\u001b[39;00m\u001b[38;5;124m\"\u001b[39m\n\u001b[0;32m    528\u001b[0m     )\n\u001b[1;32m--> 529\u001b[0m     \u001b[38;5;28;01mraise\u001b[39;00m \u001b[38;5;167;01mValueError\u001b[39;00m(all_fits_failed_message)\n\u001b[0;32m    531\u001b[0m \u001b[38;5;28;01melse\u001b[39;00m:\n\u001b[0;32m    532\u001b[0m     some_fits_failed_message \u001b[38;5;241m=\u001b[39m (\n\u001b[0;32m    533\u001b[0m         \u001b[38;5;124mf\u001b[39m\u001b[38;5;124m\"\u001b[39m\u001b[38;5;130;01m\\n\u001b[39;00m\u001b[38;5;132;01m{\u001b[39;00mnum_failed_fits\u001b[38;5;132;01m}\u001b[39;00m\u001b[38;5;124m fits failed out of a total of \u001b[39m\u001b[38;5;132;01m{\u001b[39;00mnum_fits\u001b[38;5;132;01m}\u001b[39;00m\u001b[38;5;124m.\u001b[39m\u001b[38;5;130;01m\\n\u001b[39;00m\u001b[38;5;124m\"\u001b[39m\n\u001b[0;32m    534\u001b[0m         \u001b[38;5;124m\"\u001b[39m\u001b[38;5;124mThe score on these train-test partitions for these parameters\u001b[39m\u001b[38;5;124m\"\u001b[39m\n\u001b[1;32m   (...)\u001b[0m\n\u001b[0;32m    538\u001b[0m         \u001b[38;5;124mf\u001b[39m\u001b[38;5;124m\"\u001b[39m\u001b[38;5;124mBelow are more details about the failures:\u001b[39m\u001b[38;5;130;01m\\n\u001b[39;00m\u001b[38;5;132;01m{\u001b[39;00mfit_errors_summary\u001b[38;5;132;01m}\u001b[39;00m\u001b[38;5;124m\"\u001b[39m\n\u001b[0;32m    539\u001b[0m     )\n",
      "\u001b[1;31mValueError\u001b[0m: \nAll the 5 fits failed.\nIt is very likely that your model is misconfigured.\nYou can try to debug the error by setting error_score='raise'.\n\nBelow are more details about the failures:\n--------------------------------------------------------------------------------\n5 fits failed with the following error:\nTraceback (most recent call last):\n  File \"c:\\Users\\govth\\miniconda3\\envs\\ml_env\\Lib\\site-packages\\sklearn\\model_selection\\_validation.py\", line 888, in _fit_and_score\n    estimator.fit(X_train, y_train, **fit_params)\n    ~~~~~~~~~~~~~^^^^^^^^^^^^^^^^^^^^^^^^^^^^^^^^\n  File \"c:\\Users\\govth\\miniconda3\\envs\\ml_env\\Lib\\site-packages\\sklearn\\base.py\", line 1473, in wrapper\n    return fit_method(estimator, *args, **kwargs)\n  File \"c:\\Users\\govth\\miniconda3\\envs\\ml_env\\Lib\\site-packages\\sklearn\\linear_model\\_base.py\", line 609, in fit\n    X, y = self._validate_data(\n           ~~~~~~~~~~~~~~~~~~~^\n        X,\n        ^^\n    ...<4 lines>...\n        force_writeable=True,\n        ^^^^^^^^^^^^^^^^^^^^^\n    )\n    ^\n  File \"c:\\Users\\govth\\miniconda3\\envs\\ml_env\\Lib\\site-packages\\sklearn\\base.py\", line 650, in _validate_data\n    X, y = check_X_y(X, y, **check_params)\n           ~~~~~~~~~^^^^^^^^^^^^^^^^^^^^^^\n  File \"c:\\Users\\govth\\miniconda3\\envs\\ml_env\\Lib\\site-packages\\sklearn\\utils\\validation.py\", line 1301, in check_X_y\n    X = check_array(\n        X,\n    ...<12 lines>...\n        input_name=\"X\",\n    )\n  File \"c:\\Users\\govth\\miniconda3\\envs\\ml_env\\Lib\\site-packages\\sklearn\\utils\\validation.py\", line 1012, in check_array\n    array = _asarray_with_order(array, order=order, dtype=dtype, xp=xp)\n  File \"c:\\Users\\govth\\miniconda3\\envs\\ml_env\\Lib\\site-packages\\sklearn\\utils\\_array_api.py\", line 745, in _asarray_with_order\n    array = numpy.asarray(array, order=order, dtype=dtype)\n  File \"c:\\Users\\govth\\miniconda3\\envs\\ml_env\\Lib\\site-packages\\pandas\\core\\generic.py\", line 2153, in __array__\n    arr = np.asarray(values, dtype=dtype)\nValueError: could not convert string to float: 'House'\n"
     ]
    }
   ],
   "source": [
    "from sklearn.model_selection import KFold, cross_val_score\n",
    "from sklearn.linear_model import LinearRegression\n",
    "from sklearn.ensemble import RandomForestRegressor\n",
    "from sklearn.metrics import make_scorer, mean_squared_error\n",
    "import numpy as np\n",
    "\n",
    "# Define models to test\n",
    "models = {\n",
    "    'Linear Regression': LinearRegression(),\n",
    "    'Random Forest': RandomForestRegressor(n_estimators=100, random_state=42)\n",
    "}\n",
    "\n",
    "# Define K-Fold Cross-Validation\n",
    "kf = KFold(n_splits=5, shuffle=True, random_state=42)\n",
    "\n",
    "# Define metric for evaluation (Mean Squared Error)\n",
    "scorer = make_scorer(mean_squared_error, greater_is_better=False)\n",
    "\n",
    "# Perform cross-validation for each model\n",
    "results = {}\n",
    "for model_name, model in models.items():\n",
    "    scores = cross_val_score(model, X_train, y_train, cv=kf, scoring=scorer)\n",
    "    results[model_name] = {\n",
    "        'Mean MSE': -np.mean(scores),\n",
    "        'Standard Deviation': np.std(scores)\n",
    "    }\n",
    "\n",
    "# Display Results\n",
    "for model_name, metrics in results.items():\n",
    "    print(f\"{model_name}:\")\n",
    "    print(f\"  Mean MSE: {metrics['Mean MSE']:.2f}\")\n",
    "    print(f\"  Standard Deviation: {metrics['Standard Deviation']:.2f}\\n\")\n"
   ]
  }
 ],
 "metadata": {
  "kernelspec": {
   "display_name": "ml_env",
   "language": "python",
   "name": "python3"
  },
  "language_info": {
   "codemirror_mode": {
    "name": "ipython",
    "version": 3
   },
   "file_extension": ".py",
   "mimetype": "text/x-python",
   "name": "python",
   "nbconvert_exporter": "python",
   "pygments_lexer": "ipython3",
   "version": "3.13.1"
  }
 },
 "nbformat": 4,
 "nbformat_minor": 2
}
